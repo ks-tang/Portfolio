{
 "cells": [
  {
   "cell_type": "code",
   "execution_count": 2,
   "metadata": {},
   "outputs": [],
   "source": [
    "from skimage import io\n",
    "\n",
    "import pickle\n",
    "import os, sys\n",
    "import pandas as pd\n",
    "import numpy as np\n",
    "import matplotlib.pyplot as plt\n",
    "\n",
    "from sklearn.metrics import confusion_matrix\n",
    "from sklearn.metrics import f1_score\n",
    "from sklearn.metrics import balanced_accuracy_score\n",
    "from sklearn.model_selection import train_test_split\n",
    "from sklearn.metrics import average_precision_score"
   ]
  },
  {
   "cell_type": "markdown",
   "metadata": {},
   "source": [
    "## Chargement Image Cifar"
   ]
  },
  {
   "cell_type": "code",
   "execution_count": 2,
   "metadata": {},
   "outputs": [],
   "source": [
    "def unpickle(file):    \n",
    "    with open(file, 'rb') as fo:\n",
    "        # Decommanter cette ligne si problème de décodage\n",
    "        # dict_cifar = pickle.load(fo, encoding='bytes')\n",
    "        dict_cifar = pickle.load(fo, encoding='latin-1')\n",
    "    return dict_cifar"
   ]
  },
  {
   "cell_type": "code",
   "execution_count": 3,
   "metadata": {},
   "outputs": [
    {
     "name": "stdout",
     "output_type": "stream",
     "text": [
      "['airplane', 'automobile', 'bird', 'cat', 'deer', 'dog', 'frog', 'horse', 'ship', 'truck']\n"
     ]
    }
   ],
   "source": [
    "def show_label_name():\n",
    "    label_name = unpickle('../cifar_img/batches.meta')['label_names']\n",
    "    print(label_name)\n",
    "show_label_name()\n",
    "\n",
    "def show_img(img):\n",
    "    img = np.array(img)\n",
    "    img = img.reshape(3, 32, 32).transpose(1, 2, 0)\n",
    "    plt.imshow(img)\n",
    "    plt.show()"
   ]
  },
  {
   "cell_type": "code",
   "execution_count": 5,
   "metadata": {},
   "outputs": [],
   "source": [
    "def extract_cifar_from_dict(file):\n",
    "    dict_cifar = unpickle(file)\n",
    "    df_cifar = pd.DataFrame(dict_cifar['data'])\n",
    "    df_cifar['target'] = dict_cifar['labels']\n",
    "    return df_cifar\n",
    "\n",
    "def create_binary_label(df):\n",
    "    df['target'] = df['target'].apply(lambda x: 1 if x==0 else 0)\n",
    "    return df\n",
    "\n",
    "def export_Df_Csv(df, path, csv_name, index_=False):\n",
    "    df.to_csv(path + csv_name, index=index_)\n",
    "\n",
    "def export_DfXY_Csv(X, y, path, csv_name, index_=False):\n",
    "    df = pd.concat([X, y], axis=1)\n",
    "    df.to_csv(path + csv_name, index=index_)\n",
    "\n",
    "def split_train_test_cifar(df_cifar):\n",
    "    # Séparation des features et des labels\n",
    "    X = df_cifar.drop('target', axis=1)\n",
    "    y = df_cifar['target']\n",
    "    return X, y\n",
    "\n",
    "def load_one_cifar(file):\n",
    "    df_cifar = extract_cifar_from_dict(file)\n",
    "    df_cifar = create_binary_label(df_cifar)\n",
    "    X, y = split_train_test_cifar(df_cifar)\n",
    "    return X, y\n",
    "\n",
    "def load_train_cifar(withExport=False, path='../data/', name='ref_data.csv'):\n",
    "    X_train, y_train = load_one_cifar('../cifar_img/data_batch_1')\n",
    "    for i in range(2,6):\n",
    "        X, y = load_one_cifar('../cifar_img/data_batch_' + str(i))\n",
    "        X_train = pd.concat([X_train, X])\n",
    "        y_train = pd.concat([y_train, y])\n",
    "\n",
    "    # Création fichier ref_data.csv\n",
    "    if withExport:\n",
    "        export_DfXY_Csv(X_train, y_train, path, name, index_=False)\n",
    "\n",
    "    return X_train, y_train\n",
    "    \n",
    "def load_test_cifar(withExport=False, path='../data/', name='ref_data_Test.csv'):\n",
    "    X_test, y_test = load_one_cifar('../cifar_img/test_batch')\n",
    "    # Création fichier ref_data.csv\n",
    "    if withExport:\n",
    "        export_DfXY_Csv(X_test, y_test, path, name, index_=False)\n",
    "    return X_test, y_test\n",
    "\n",
    "\n",
    "def load_all_cifar(exportTrainCsv=False, exportTestCsv=False):\n",
    "    X_train, y_train = load_train_cifar(exportTrainCsv)\n",
    "    X_test, y_test = load_test_cifar(exportTestCsv)\n",
    "    return X_train, y_train, X_test, y_test\n"
   ]
  },
  {
   "cell_type": "code",
   "execution_count": 48,
   "metadata": {},
   "outputs": [],
   "source": [
    "X_train, y_train, X_test, y_test = load_all_cifar(False,False)"
   ]
  },
  {
   "cell_type": "code",
   "execution_count": 17,
   "metadata": {},
   "outputs": [],
   "source": [
    "# load ref_data.csv\n",
    "df_ref_data = pd.read_csv('../data/ref_data.csv', dtype=np.uint8)\n",
    "X_train_csv = df_ref_data.drop('target', axis=1)\n",
    "y_train_csv = df_ref_data['target']\n",
    "\n",
    "df_ref_test = pd.read_csv('../data/ref_data_Test.csv', dtype=np.uint8)\n",
    "X_test_csv = df_ref_test.drop('target', axis=1)\n",
    "y_test_csv = df_ref_test['target']"
   ]
  },
  {
   "cell_type": "code",
   "execution_count": 87,
   "metadata": {},
   "outputs": [
    {
     "data": {
      "text/plain": [
       "numpy.ndarray"
      ]
     },
     "execution_count": 87,
     "metadata": {},
     "output_type": "execute_result"
    }
   ],
   "source": [
    "type(X_train[0])"
   ]
  },
  {
   "cell_type": "code",
   "execution_count": 8,
   "metadata": {},
   "outputs": [
    {
     "data": {
      "text/html": [
       "<div>\n",
       "<style scoped>\n",
       "    .dataframe tbody tr th:only-of-type {\n",
       "        vertical-align: middle;\n",
       "    }\n",
       "\n",
       "    .dataframe tbody tr th {\n",
       "        vertical-align: top;\n",
       "    }\n",
       "\n",
       "    .dataframe thead th {\n",
       "        text-align: right;\n",
       "    }\n",
       "</style>\n",
       "<table border=\"1\" class=\"dataframe\">\n",
       "  <thead>\n",
       "    <tr style=\"text-align: right;\">\n",
       "      <th></th>\n",
       "      <th>0</th>\n",
       "      <th>1</th>\n",
       "      <th>2</th>\n",
       "      <th>3</th>\n",
       "      <th>4</th>\n",
       "      <th>5</th>\n",
       "      <th>6</th>\n",
       "      <th>7</th>\n",
       "      <th>8</th>\n",
       "      <th>9</th>\n",
       "      <th>...</th>\n",
       "      <th>3062</th>\n",
       "      <th>3063</th>\n",
       "      <th>3064</th>\n",
       "      <th>3065</th>\n",
       "      <th>3066</th>\n",
       "      <th>3067</th>\n",
       "      <th>3068</th>\n",
       "      <th>3069</th>\n",
       "      <th>3070</th>\n",
       "      <th>3071</th>\n",
       "    </tr>\n",
       "  </thead>\n",
       "  <tbody>\n",
       "    <tr>\n",
       "      <th>0</th>\n",
       "      <td>59</td>\n",
       "      <td>43</td>\n",
       "      <td>50</td>\n",
       "      <td>68</td>\n",
       "      <td>98</td>\n",
       "      <td>119</td>\n",
       "      <td>139</td>\n",
       "      <td>145</td>\n",
       "      <td>149</td>\n",
       "      <td>149</td>\n",
       "      <td>...</td>\n",
       "      <td>59</td>\n",
       "      <td>58</td>\n",
       "      <td>65</td>\n",
       "      <td>59</td>\n",
       "      <td>46</td>\n",
       "      <td>57</td>\n",
       "      <td>104</td>\n",
       "      <td>140</td>\n",
       "      <td>84</td>\n",
       "      <td>72</td>\n",
       "    </tr>\n",
       "    <tr>\n",
       "      <th>1</th>\n",
       "      <td>154</td>\n",
       "      <td>126</td>\n",
       "      <td>105</td>\n",
       "      <td>102</td>\n",
       "      <td>125</td>\n",
       "      <td>155</td>\n",
       "      <td>172</td>\n",
       "      <td>180</td>\n",
       "      <td>142</td>\n",
       "      <td>111</td>\n",
       "      <td>...</td>\n",
       "      <td>22</td>\n",
       "      <td>42</td>\n",
       "      <td>67</td>\n",
       "      <td>101</td>\n",
       "      <td>122</td>\n",
       "      <td>133</td>\n",
       "      <td>136</td>\n",
       "      <td>139</td>\n",
       "      <td>142</td>\n",
       "      <td>144</td>\n",
       "    </tr>\n",
       "    <tr>\n",
       "      <th>2</th>\n",
       "      <td>255</td>\n",
       "      <td>253</td>\n",
       "      <td>253</td>\n",
       "      <td>253</td>\n",
       "      <td>253</td>\n",
       "      <td>253</td>\n",
       "      <td>253</td>\n",
       "      <td>253</td>\n",
       "      <td>253</td>\n",
       "      <td>253</td>\n",
       "      <td>...</td>\n",
       "      <td>78</td>\n",
       "      <td>83</td>\n",
       "      <td>80</td>\n",
       "      <td>69</td>\n",
       "      <td>66</td>\n",
       "      <td>72</td>\n",
       "      <td>79</td>\n",
       "      <td>83</td>\n",
       "      <td>83</td>\n",
       "      <td>84</td>\n",
       "    </tr>\n",
       "    <tr>\n",
       "      <th>3</th>\n",
       "      <td>28</td>\n",
       "      <td>37</td>\n",
       "      <td>38</td>\n",
       "      <td>42</td>\n",
       "      <td>44</td>\n",
       "      <td>40</td>\n",
       "      <td>40</td>\n",
       "      <td>24</td>\n",
       "      <td>32</td>\n",
       "      <td>43</td>\n",
       "      <td>...</td>\n",
       "      <td>53</td>\n",
       "      <td>39</td>\n",
       "      <td>59</td>\n",
       "      <td>42</td>\n",
       "      <td>44</td>\n",
       "      <td>48</td>\n",
       "      <td>38</td>\n",
       "      <td>28</td>\n",
       "      <td>37</td>\n",
       "      <td>46</td>\n",
       "    </tr>\n",
       "    <tr>\n",
       "      <th>4</th>\n",
       "      <td>170</td>\n",
       "      <td>168</td>\n",
       "      <td>177</td>\n",
       "      <td>183</td>\n",
       "      <td>181</td>\n",
       "      <td>177</td>\n",
       "      <td>181</td>\n",
       "      <td>184</td>\n",
       "      <td>189</td>\n",
       "      <td>189</td>\n",
       "      <td>...</td>\n",
       "      <td>92</td>\n",
       "      <td>88</td>\n",
       "      <td>85</td>\n",
       "      <td>82</td>\n",
       "      <td>83</td>\n",
       "      <td>79</td>\n",
       "      <td>78</td>\n",
       "      <td>82</td>\n",
       "      <td>78</td>\n",
       "      <td>80</td>\n",
       "    </tr>\n",
       "  </tbody>\n",
       "</table>\n",
       "<p>5 rows × 3072 columns</p>\n",
       "</div>"
      ],
      "text/plain": [
       "     0    1    2    3    4    5    6    7    8    9  ...  3062  3063  3064  \\\n",
       "0   59   43   50   68   98  119  139  145  149  149  ...    59    58    65   \n",
       "1  154  126  105  102  125  155  172  180  142  111  ...    22    42    67   \n",
       "2  255  253  253  253  253  253  253  253  253  253  ...    78    83    80   \n",
       "3   28   37   38   42   44   40   40   24   32   43  ...    53    39    59   \n",
       "4  170  168  177  183  181  177  181  184  189  189  ...    92    88    85   \n",
       "\n",
       "   3065  3066  3067  3068  3069  3070  3071  \n",
       "0    59    46    57   104   140    84    72  \n",
       "1   101   122   133   136   139   142   144  \n",
       "2    69    66    72    79    83    83    84  \n",
       "3    42    44    48    38    28    37    46  \n",
       "4    82    83    79    78    82    78    80  \n",
       "\n",
       "[5 rows x 3072 columns]"
      ]
     },
     "execution_count": 8,
     "metadata": {},
     "output_type": "execute_result"
    }
   ],
   "source": [
    "X_train_csv.head()"
   ]
  },
  {
   "cell_type": "code",
   "execution_count": 9,
   "metadata": {},
   "outputs": [
    {
     "data": {
      "image/png": "[encoded data removed]",
      "text/plain": [
       "<Figure size 432x288 with 1 Axes>"
      ]
     },
     "metadata": {
      "needs_background": "light"
     },
     "output_type": "display_data"
    },
    {
     "data": {
      "image/png": "[encoded data removed]",
      "text/plain": [
       "<Figure size 432x288 with 1 Axes>"
      ]
     },
     "metadata": {
      "needs_background": "light"
     },
     "output_type": "display_data"
    }
   ],
   "source": [
    "show_img(X_train.iloc[36])\n",
    "show_img(X_train_csv.iloc[36])"
   ]
  },
  {
   "cell_type": "markdown",
   "metadata": {},
   "source": [
    "## Entrainement des modèles"
   ]
  },
  {
   "cell_type": "code",
   "execution_count": 4,
   "metadata": {},
   "outputs": [],
   "source": [
    "from sklearn.decomposition import PCA"
   ]
  },
  {
   "cell_type": "code",
   "execution_count": 49,
   "metadata": {},
   "outputs": [
    {
     "name": "stdout",
     "output_type": "stream",
     "text": [
      "[2.9076636e-01 1.1253149e-01 6.6944100e-02 3.6764584e-02 3.6088429e-02\n",
      " 2.8092301e-02 2.7129920e-02 2.1671632e-02 2.0646427e-02 1.4380011e-02\n",
      " 1.3105633e-02 1.0659781e-02 1.0499810e-02 1.0042683e-02 9.1848187e-03\n",
      " 8.1740040e-03 7.3960777e-03 7.1612992e-03 6.8747201e-03 6.4324345e-03\n",
      " 5.9439628e-03 5.8735460e-03 4.9556768e-03 4.9079219e-03 4.8045204e-03\n",
      " 4.6587745e-03 4.5134798e-03 4.4365432e-03 4.0078065e-03 3.9386628e-03\n",
      " 3.6621755e-03 3.3313942e-03 3.2396512e-03 3.1024604e-03 3.0758684e-03\n",
      " 2.9125002e-03 2.6121901e-03 2.5926074e-03 2.5434548e-03 2.4837761e-03\n",
      " 2.4267114e-03 2.2931932e-03 2.2817466e-03 2.2151789e-03 2.1026023e-03\n",
      " 2.0673166e-03 1.9245723e-03 1.9037912e-03 1.8466007e-03 1.8169627e-03\n",
      " 1.7805202e-03 1.7360058e-03 1.7116537e-03 1.6975936e-03 1.6233450e-03\n",
      " 1.5859044e-03 1.5641170e-03 1.5430062e-03 1.5309257e-03 1.4992371e-03\n",
      " 1.4578415e-03 1.4232517e-03 1.4111665e-03 1.3770667e-03 1.3485469e-03\n",
      " 1.3266667e-03 1.2884326e-03 1.2431352e-03 1.2138684e-03 1.2120648e-03\n",
      " 1.1852911e-03 1.1683344e-03 1.1400402e-03 1.1230845e-03 1.1166957e-03\n",
      " 1.1102833e-03 1.1028968e-03 1.0481598e-03 1.0368867e-03 1.0174419e-03\n",
      " 9.9897734e-04 9.8993559e-04 9.7831083e-04 9.7214541e-04 9.4295765e-04\n",
      " 9.2922914e-04 9.2074071e-04 9.0021861e-04 8.8441785e-04 8.7850715e-04\n",
      " 8.6834945e-04 8.4405881e-04 8.4174506e-04 8.2627416e-04 8.1430335e-04\n",
      " 7.9654786e-04 7.8457984e-04 7.5263239e-04 7.4929988e-04 7.4355962e-04\n",
      " 7.4091501e-04 7.2987512e-04 7.1445509e-04 7.0448290e-04 6.9273147e-04\n",
      " 6.7952002e-04 6.7802757e-04 6.7319593e-04 6.6648953e-04 6.5943971e-04\n",
      " 6.5000867e-04 6.4877438e-04 6.3124677e-04 6.1767380e-04 6.0708582e-04\n",
      " 6.0583593e-04 5.9578789e-04 5.9081783e-04 5.8327476e-04 5.8271800e-04\n",
      " 5.7735475e-04 5.6526402e-04 5.6122633e-04 5.6101108e-04 5.5558665e-04\n",
      " 5.4679823e-04 5.4282672e-04 5.3829036e-04 5.3106202e-04 5.1762140e-04\n",
      " 5.1345868e-04 5.0958246e-04 4.9584010e-04 4.9282843e-04 4.8869522e-04\n",
      " 4.8411055e-04 4.7653992e-04 4.7551360e-04 4.6706331e-04 4.6356287e-04\n",
      " 4.6216469e-04 4.5746626e-04 4.5504217e-04 4.4965054e-04 4.4474076e-04\n",
      " 4.4258879e-04 4.3866158e-04 4.2974373e-04 4.2901031e-04 4.2030681e-04\n",
      " 4.1521012e-04 4.1474050e-04 4.1325943e-04 4.1021471e-04 4.0628703e-04\n",
      " 4.0189727e-04 3.9585930e-04 3.9345471e-04 3.9066191e-04 3.8769946e-04\n",
      " 3.8342751e-04 3.7863242e-04 3.7387840e-04 3.7101994e-04 3.6420504e-04\n",
      " 3.6187019e-04 3.5452121e-04 3.5112092e-04 3.5003992e-04 3.4687063e-04\n",
      " 3.4544989e-04 3.4213733e-04 3.3948763e-04 3.3695961e-04 3.3525549e-04\n",
      " 3.3414084e-04 3.3059446e-04 3.2669038e-04 3.2405907e-04 3.2323273e-04\n",
      " 3.2109805e-04 3.1993224e-04 3.1868109e-04 3.1486404e-04 3.1194510e-04\n",
      " 3.1012227e-04 3.0780464e-04 3.0532730e-04 3.0256694e-04 2.9754615e-04\n",
      " 2.9247664e-04 2.9226352e-04 2.9116028e-04 2.8629939e-04 2.8489775e-04\n",
      " 2.8337078e-04 2.8058433e-04 2.7874418e-04 2.7689230e-04 2.7630411e-04\n",
      " 2.7365304e-04 2.7266517e-04 2.6870382e-04 2.6798871e-04 2.6597196e-04\n",
      " 2.6413891e-04 2.6078144e-04 2.5906204e-04 2.5718226e-04 2.5332102e-04\n",
      " 2.5280239e-04 2.4954084e-04 2.4788041e-04 2.4672397e-04 2.4491921e-04\n",
      " 2.4316834e-04 2.4137071e-04]\n"
     ]
    }
   ],
   "source": [
    "# PCA\n",
    "\n",
    "\n",
    "X_train_norm = X_train.astype('float32')\n",
    "X_test_norm = X_test.astype('float32')\n",
    "X_train_norm /= 255\n",
    "X_test_norm /= 255\n",
    "\n",
    "pca = PCA(n_components=0.95)\n",
    "pca.fit(X_train_norm)\n",
    "print(pca.explained_variance_ratio_)\n",
    "X_train_pca = pca.transform(X_train_norm)\n",
    "X_test_pca = pca.transform(X_test_norm)\n"
   ]
  },
  {
   "cell_type": "code",
   "execution_count": 3,
   "metadata": {},
   "outputs": [],
   "source": [
    "from imblearn.over_sampling import SMOTE"
   ]
  },
  {
   "cell_type": "code",
   "execution_count": 45,
   "metadata": {},
   "outputs": [],
   "source": [
    "# ADD SMOTE DATA\n",
    "from imblearn.over_sampling import SMOTE\n",
    "sm = SMOTE(random_state=42, sampling_strategy='minority')\n",
    "X_train_smote, y_train_smote = sm.fit_resample(X_train_norm, y_train)"
   ]
  },
  {
   "cell_type": "code",
   "execution_count": 40,
   "metadata": {},
   "outputs": [],
   "source": [
    "X_train_pca = X_train_pca[:10000]\n",
    "y_train_pca = y_train[:10000]\n",
    "X_train_norm = X_train_norm[:10000]\n",
    "y_train = y_train[:10000]\n",
    "\n",
    "X_test_pca = X_test_pca[:5000]\n",
    "y_test_pca = y_test[:5000]\n",
    "X_test_norm = X_test_norm[:5000]\n",
    "y_test = y_test[:5000]"
   ]
  },
  {
   "cell_type": "code",
   "execution_count": 50,
   "metadata": {},
   "outputs": [],
   "source": [
    "# SMOTE PCA\n",
    "from imblearn.over_sampling import SMOTE\n",
    "sm = SMOTE(random_state=42, sampling_strategy='minority')\n",
    "X_train_smote_pca, y_train_smote_pca = sm.fit_resample(X_train_pca, y_train)"
   ]
  },
  {
   "cell_type": "markdown",
   "metadata": {},
   "source": [
    "### Réduction des données"
   ]
  },
  {
   "cell_type": "markdown",
   "metadata": {},
   "source": [
    "### Random Forest"
   ]
  },
  {
   "cell_type": "code",
   "execution_count": 12,
   "metadata": {},
   "outputs": [
    {
     "name": "stdout",
     "output_type": "stream",
     "text": [
      "[[8935   65]\n",
      " [ 727  273]]\n",
      "0.40807174887892383\n",
      "0.6328888888888888\n"
     ]
    }
   ],
   "source": [
    "## Random Forest => NORMAL (Pas de diff avec les données normalisées.\n",
    "## Plutôt logique car tous les champs sont dans la même échelle \n",
    "## entre 0 et 255)\n",
    "from sklearn.ensemble import RandomForestClassifier\n",
    "\n",
    "rf = RandomForestClassifier(n_estimators=100, random_state=1)\n",
    "rf.fit(X_train, y_train)\n",
    "y_pred = rf.predict(X_test)\n",
    "print(confusion_matrix(y_test, y_pred))\n",
    "\n",
    "print(f1_score(y_test, y_pred))\n",
    "print(balanced_accuracy_score(y_test, y_pred))"
   ]
  },
  {
   "cell_type": "code",
   "execution_count": 11,
   "metadata": {},
   "outputs": [
    {
     "name": "stdout",
     "output_type": "stream",
     "text": [
      "[[8935   65]\n",
      " [ 728  272]]\n",
      "0.4068810770381451\n",
      "0.6323888888888889\n"
     ]
    }
   ],
   "source": [
    "## Random Forest => NORMALISATION (Pas de diff avec les données brutes\n",
    "## Plutôt logique car tous les champs sont dans la même échelle \n",
    "## entre 0 et 255)\n",
    "from sklearn.ensemble import RandomForestClassifier\n",
    "\n",
    "rf = RandomForestClassifier(n_estimators=100, random_state=1)\n",
    "rf.fit(X_train_norm, y_train)\n",
    "y_pred = rf.predict(X_test_norm)\n",
    "print(confusion_matrix(y_test, y_pred))\n",
    "\n",
    "print(f1_score(y_test, y_pred))\n",
    "print(balanced_accuracy_score(y_test, y_pred))"
   ]
  },
  {
   "cell_type": "code",
   "execution_count": 29,
   "metadata": {},
   "outputs": [
    {
     "name": "stdout",
     "output_type": "stream",
     "text": [
      "[[8983   17]\n",
      " [ 891  109]]\n",
      "0.1936056838365897\n",
      "0.5535555555555556\n"
     ]
    }
   ],
   "source": [
    "## Random Forest => PCA\n",
    "from sklearn.ensemble import RandomForestClassifier\n",
    "\n",
    "rf = RandomForestClassifier(n_estimators=100, random_state=1)\n",
    "rf.fit(X_train_pca, y_train)\n",
    "y_pred = rf.predict(X_test_pca)\n",
    "print(confusion_matrix(y_test, y_pred))\n",
    "\n",
    "print(f1_score(y_test, y_pred))\n",
    "print(balanced_accuracy_score(y_test, y_pred))"
   ]
  },
  {
   "cell_type": "code",
   "execution_count": null,
   "metadata": {},
   "outputs": [],
   "source": [
    "## Random Forest => SMOTE\n",
    "from sklearn.ensemble import RandomForestClassifier\n",
    "\n",
    "rf = RandomForestClassifier(n_estimators=100, random_state=1)\n",
    "rf.fit(X_train_smote, y_train_smote)\n",
    "y_pred = rf.predict(X_test_norm)\n",
    "print(confusion_matrix(y_test, y_pred))\n",
    "\n",
    "print(f1_score(y_test, y_pred))\n",
    "print(balanced_accuracy_score(y_test, y_pred))"
   ]
  },
  {
   "cell_type": "code",
   "execution_count": 31,
   "metadata": {},
   "outputs": [
    {
     "name": "stdout",
     "output_type": "stream",
     "text": [
      "[[8660  340]\n",
      " [ 580  420]]\n",
      "0.4772727272727273\n",
      "0.6911111111111111\n"
     ]
    }
   ],
   "source": [
    "# Random Forest => SMOTE PCA\n",
    "from sklearn.ensemble import RandomForestClassifier\n",
    "\n",
    "rf = RandomForestClassifier(n_estimators=100, random_state=1)\n",
    "rf.fit(X_train_smote_pca, y_train_smote_pca)\n",
    "y_pred = rf.predict(X_test_pca)\n",
    "print(confusion_matrix(y_test, y_pred))\n",
    "\n",
    "print(f1_score(y_test, y_pred))\n",
    "print(balanced_accuracy_score(y_test, y_pred))"
   ]
  },
  {
   "cell_type": "markdown",
   "metadata": {},
   "source": [
    "### MLP"
   ]
  },
  {
   "cell_type": "code",
   "execution_count": 38,
   "metadata": {},
   "outputs": [],
   "source": [
    "from sklearn.neural_network import MLPClassifier"
   ]
  },
  {
   "cell_type": "code",
   "execution_count": 31,
   "metadata": {},
   "outputs": [
    {
     "name": "stdout",
     "output_type": "stream",
     "text": [
      "[[9000    0]\n",
      " [1000    0]]\n",
      "0.0\n",
      "0.5\n"
     ]
    }
   ],
   "source": [
    "mlp = MLPClassifier(hidden_layer_sizes=(100, 100, 100), max_iter=100, activation='logistic', learning_rate='adaptive', solver='adam')\n",
    "mlp.fit(X_train, y_train)\n",
    "y_pred = mlp.predict(X_test)\n",
    "print(confusion_matrix(y_test, y_pred))\n",
    "\n",
    "# Résultat étonnant. Le MLP prédit tjr faux si données pas normalisées\n",
    "print(f1_score(y_test, y_pred))\n",
    "print(balanced_accuracy_score(y_test, y_pred))"
   ]
  },
  {
   "cell_type": "code",
   "execution_count": 41,
   "metadata": {},
   "outputs": [
    {
     "name": "stdout",
     "output_type": "stream",
     "text": [
      "[[4371  141]\n",
      " [ 293  195]]\n",
      "0.4733009708737865\n",
      "0.6841700819672132\n"
     ]
    },
    {
     "name": "stderr",
     "output_type": "stream",
     "text": [
      "c:\\Users\\merci\\AppData\\Local\\Programs\\Python\\Python39\\lib\\site-packages\\sklearn\\neural_network\\_multilayer_perceptron.py:692: ConvergenceWarning: Stochastic Optimizer: Maximum iterations (100) reached and the optimization hasn't converged yet.\n",
      "  warnings.warn(\n"
     ]
    }
   ],
   "source": [
    "mlp = MLPClassifier(hidden_layer_sizes=(100, 100, 100), max_iter=100, activation='logistic', learning_rate='adaptive', solver='adam')\n",
    "mlp.fit(X_train_norm, y_train)\n",
    "y_pred = mlp.predict(X_test_norm)\n",
    "print(confusion_matrix(y_test, y_pred))\n",
    "\n",
    "print(f1_score(y_test, y_pred))\n",
    "print(balanced_accuracy_score(y_test, y_pred))"
   ]
  },
  {
   "cell_type": "code",
   "execution_count": 42,
   "metadata": {},
   "outputs": [
    {
     "name": "stdout",
     "output_type": "stream",
     "text": [
      "[[4287  225]\n",
      " [ 291  197]]\n",
      "0.4329670329670329\n",
      "0.676910751656784\n"
     ]
    }
   ],
   "source": [
    "mlp = MLPClassifier(hidden_layer_sizes=(100, 100, 100), max_iter=100, activation='logistic', learning_rate='adaptive', solver='adam')\n",
    "mlp.fit(X_train_pca, y_train)\n",
    "y_pred = mlp.predict(X_test_pca)\n",
    "print(confusion_matrix(y_test, y_pred))\n",
    "\n",
    "print(f1_score(y_test, y_pred))\n",
    "print(balanced_accuracy_score(y_test, y_pred))"
   ]
  },
  {
   "cell_type": "code",
   "execution_count": 47,
   "metadata": {},
   "outputs": [
    {
     "name": "stdout",
     "output_type": "stream",
     "text": [
      "[[3963  549]\n",
      " [ 186  302]]\n",
      "0.4510828976848394\n",
      "0.7485884635507498\n"
     ]
    }
   ],
   "source": [
    "mlp = MLPClassifier(hidden_layer_sizes=(100, 100, 100), max_iter=100, activation='logistic', learning_rate='adaptive', solver='adam')\n",
    "mlp.fit(X_train_smote, y_train_smote)\n",
    "y_pred = mlp.predict(X_test_norm)\n",
    "print(confusion_matrix(y_test, y_pred))\n",
    "\n",
    "print(f1_score(y_test, y_pred))\n",
    "print(balanced_accuracy_score(y_test, y_pred))"
   ]
  },
  {
   "cell_type": "code",
   "execution_count": 51,
   "metadata": {},
   "outputs": [
    {
     "name": "stdout",
     "output_type": "stream",
     "text": [
      "[[8427  573]\n",
      " [ 470  530]]\n",
      "0.504041844983357\n",
      "0.7331666666666667\n"
     ]
    }
   ],
   "source": [
    "mlp = MLPClassifier(hidden_layer_sizes=(100, 100, 100), max_iter=100, activation='logistic', learning_rate='adaptive', solver='adam')\n",
    "mlp.fit(X_train_smote_pca, y_train_smote_pca)\n",
    "y_pred = mlp.predict(X_test_pca)\n",
    "print(confusion_matrix(y_test, y_pred))\n",
    "\n",
    "print(f1_score(y_test, y_pred))\n",
    "print(balanced_accuracy_score(y_test, y_pred))"
   ]
  },
  {
   "cell_type": "code",
   "execution_count": null,
   "metadata": {},
   "outputs": [],
   "source": [
    "# To pickle\n",
    "# with open('../artifacts/model.pkl', 'wb') as f:\n",
    "#     pickle.dump(mlp, f)\n",
    "#     f.close()"
   ]
  },
  {
   "cell_type": "code",
   "execution_count": null,
   "metadata": {},
   "outputs": [],
   "source": [
    "# # Use grid search to find the best parameters\n",
    "from sklearn.model_selection import GridSearchCV\n",
    "\n",
    "# param_grid = {\n",
    "#                 'activation': ['relu', 'tanh', 'logistic'],\n",
    "#                 'solver': ['sgd', 'adam', 'lbfgs'],\n",
    "#                 'learning_rate': ['constant', 'invscaling', 'adaptive']}\n",
    "# mlp = MLPClassifier(max_iter=20)\n",
    "# grid = GridSearchCV(mlp, param_grid, cv=3, scoring='balanced_accuracy')\n",
    "# grid.fit(X_train_norm, y_train)\n",
    "# print(grid.best_params_)\n",
    "# print(grid.best_score_)\n",
    "# print(grid.best_estimator_)\n",
    "\n",
    "# # {'activation': 'logistic', 'learning_rate': 'adaptive', 'solver': 'adam'}\n",
    "# # 0.3269629215793164\n",
    "# # MLPClassifier(activation='logistic', learning_rate='adaptive', max_iter=20)\n",
    "# 131min49.s\n",
    "\n",
    "# param_grid = {'hidden_layer_sizes': [(100,), (100, 100), (100, 100, 100)]}\n",
    "# mlp = MLPClassifier(max_iter=20, activation='logistic', learning_rate='adaptive', solver='adam')\n",
    "# grid = GridSearchCV(mlp, param_grid, cv=3, scoring='f1')\n",
    "# grid.fit(X_train_norm, y_train)\n",
    "# print(grid.best_params_)\n",
    "# print(grid.best_score_)\n",
    "# print(grid.best_estimator_)\n",
    "\n",
    "# {'hidden_layer_sizes': (100, 100, 100)}\n",
    "# 0.3973135120913219\n",
    "# MLPClassifier(activation='logistic', hidden_layer_sizes=(100, 100, 100),\n",
    "#               learning_rate='adaptive', max_iter=20)"
   ]
  },
  {
   "cell_type": "markdown",
   "metadata": {},
   "source": [
    "# Embedding model"
   ]
  },
  {
   "cell_type": "code",
   "execution_count": 112,
   "metadata": {},
   "outputs": [],
   "source": [
    "# With openCv, I want a class to load single image with the same type of data as cifar\n",
    "import cv2\n",
    "import numpy as np\n",
    "import pandas as pd\n",
    "import pickle\n",
    "\n",
    "class embedding_img:\n",
    "    path = None\n",
    "    img_cifar = None\n",
    "    \n",
    "    def __init__(self, path):\n",
    "        self.path = path\n",
    "        img = cv2.imread(path)\n",
    "        self.transform(img)\n",
    "\n",
    "    def get_img(self):\n",
    "        return self.img_cifar\n",
    "    \n",
    "    def show_img(self):\n",
    "        img = np.array(self.img_cifar)\n",
    "        img = img.reshape(3, 32, 32).transpose(1, 2, 0)\n",
    "        plt.imshow(img)\n",
    "        plt.show()\n",
    "    \n",
    "    def transform(self, img):\n",
    "        img = cv2.cvtColor(img, cv2.COLOR_BGR2RGB)\n",
    "        img = cv2.resize(img, (32, 32))\n",
    "\n",
    "        red_channel = img[:,:,0].reshape(-1)\n",
    "        green_channel = img[:,:,1].reshape(-1)\n",
    "        blue_channel = img[:,:,2].reshape(-1)    \n",
    "    \n",
    "        self.img_cifar = pd.DataFrame(np.concatenate((red_channel, green_channel, blue_channel))).transpose()\n",
    "        return self.img_cifar\n",
    "\n",
    "# pickle the embedding_img class\n",
    "# with open('../artifacts/embedding_img.pkl', 'wb') as f:\n",
    "#     pickle.dump(embedding_img, f)"
   ]
  },
  {
   "cell_type": "code",
   "execution_count": 2,
   "metadata": {},
   "outputs": [],
   "source": [
    "# Test embedding\n",
    "# To pickle\n",
    "import pickle\n",
    "\n",
    "# with open('../artifacts/embedding_img.pkl', 'rb') as f:\n",
    "#     embedding = pickle.load(f)\n",
    "\n",
    "with open('../artifacts/model.pkl', 'rb') as f:\n",
    "    model = pickle.load(f)\n"
   ]
  },
  {
   "cell_type": "code",
   "execution_count": 114,
   "metadata": {},
   "outputs": [
    {
     "data": {
      "image/png": "[encoded data removed]",
      "text/plain": [
       "<Figure size 432x288 with 1 Axes>"
      ]
     },
     "metadata": {
      "needs_background": "light"
     },
     "output_type": "display_data"
    },
    {
     "data": {
      "text/plain": [
       "array([1], dtype=int64)"
      ]
     },
     "execution_count": 114,
     "metadata": {},
     "output_type": "execute_result"
    }
   ],
   "source": [
    "img = embedding('../cifar_img/avionTest1.jpg')\n",
    "img.show_img()\n",
    "model.predict(img.get_img())\n"
   ]
  },
  {
   "cell_type": "code",
   "execution_count": 115,
   "metadata": {},
   "outputs": [
    {
     "data": {
      "image/png": "[encoded data removed]",
      "text/plain": [
       "<Figure size 432x288 with 1 Axes>"
      ]
     },
     "metadata": {
      "needs_background": "light"
     },
     "output_type": "display_data"
    },
    {
     "data": {
      "text/plain": [
       "array([1], dtype=int64)"
      ]
     },
     "execution_count": 115,
     "metadata": {},
     "output_type": "execute_result"
    }
   ],
   "source": [
    "img = embedding('../cifar_img/avionTest2.jpg')\n",
    "img.show_img()\n",
    "model.predict(img.get_img())"
   ]
  },
  {
   "cell_type": "markdown",
   "metadata": {},
   "source": [
    "## Encodeur plus simple"
   ]
  },
  {
   "cell_type": "code",
   "execution_count": 1,
   "metadata": {},
   "outputs": [],
   "source": [
    "# Use PIL to load an image and transform it to the same type of data as cifar\n",
    "# Image must be 32x32 and final array must be 1x3072 with 1024 for each color and with the red color first, then green and finally blue\n",
    "from PIL import Image\n",
    "import numpy as np\n",
    "\n",
    "def encode_img(path):\n",
    "    img = Image.open(path)\n",
    "    img = img.resize((32, 32))    \n",
    "    r,g,b = img.split()\n",
    "    r = np.array(r).reshape(-1)\n",
    "    g = np.array(g).reshape(-1)\n",
    "    b = np.array(b).reshape(-1)\n",
    "    tab = np.concatenate((np.array(r), np.array(g), np.array(b)))\n",
    "    return tab.reshape(1, -1)"
   ]
  },
  {
   "cell_type": "code",
   "execution_count": 20,
   "metadata": {},
   "outputs": [
    {
     "data": {
      "image/png": "[encoded data removed]",
      "text/plain": [
       "<Figure size 432x288 with 1 Axes>"
      ]
     },
     "metadata": {
      "needs_background": "light"
     },
     "output_type": "display_data"
    },
    {
     "name": "stdout",
     "output_type": "stream",
     "text": [
      "0\n",
      "0.9573967456817627\n"
     ]
    }
   ],
   "source": [
    "# test\n",
    "# img = encode_img('../cifar_img/avionTest1.jpg')\n",
    "# show_img(img)\n",
    "# print(model.predict(img))\n",
    "\n",
    "# # test\n",
    "# img = encode_img('../cifar_img/avionTest2.jpg')\n",
    "# show_img(img)\n",
    "# print(model.predict(img))\n",
    "\n",
    "# # test\n",
    "# img = encode_img('../cifar_img/chatTest1.jpg')\n",
    "# show_img(img)\n",
    "# print(model.predict(img))\n",
    "\n",
    "# test\n",
    "img = encode_img('../cifar_img/bateauTest1.jpeg')\n",
    "show_img(img)\n",
    "r =model.predict(img)\n",
    "print(r.tolist()[0])\n",
    "r1 = model.predict_proba(img)\n",
    "print(r1.tolist()[0][r.tolist()[0]])"
   ]
  },
  {
   "cell_type": "code",
   "execution_count": null,
   "metadata": {},
   "outputs": [],
   "source": [
    "# TODO : Comprendre pourquoi l'image chargé avec PIL\n",
    "# n'est pas la même que celle chargé avec cv2"
   ]
  },
  {
   "cell_type": "code",
   "execution_count": 7,
   "metadata": {},
   "outputs": [
    {
     "data": {
      "text/html": [
       "<div>\n",
       "<style scoped>\n",
       "    .dataframe tbody tr th:only-of-type {\n",
       "        vertical-align: middle;\n",
       "    }\n",
       "\n",
       "    .dataframe tbody tr th {\n",
       "        vertical-align: top;\n",
       "    }\n",
       "\n",
       "    .dataframe thead th {\n",
       "        text-align: right;\n",
       "    }\n",
       "</style>\n",
       "<table border=\"1\" class=\"dataframe\">\n",
       "  <thead>\n",
       "    <tr style=\"text-align: right;\">\n",
       "      <th></th>\n",
       "      <th>0</th>\n",
       "      <th>1</th>\n",
       "      <th>2</th>\n",
       "      <th>3</th>\n",
       "      <th>4</th>\n",
       "      <th>5</th>\n",
       "      <th>6</th>\n",
       "      <th>7</th>\n",
       "      <th>8</th>\n",
       "      <th>9</th>\n",
       "      <th>...</th>\n",
       "      <th>3064</th>\n",
       "      <th>3065</th>\n",
       "      <th>3066</th>\n",
       "      <th>3067</th>\n",
       "      <th>3068</th>\n",
       "      <th>3069</th>\n",
       "      <th>3070</th>\n",
       "      <th>3071</th>\n",
       "      <th>label</th>\n",
       "      <th>prediction</th>\n",
       "    </tr>\n",
       "  </thead>\n",
       "  <tbody>\n",
       "    <tr>\n",
       "      <th>0</th>\n",
       "      <td>205</td>\n",
       "      <td>205</td>\n",
       "      <td>205</td>\n",
       "      <td>206</td>\n",
       "      <td>206</td>\n",
       "      <td>205</td>\n",
       "      <td>206</td>\n",
       "      <td>206</td>\n",
       "      <td>205</td>\n",
       "      <td>205</td>\n",
       "      <td>...</td>\n",
       "      <td>122</td>\n",
       "      <td>130</td>\n",
       "      <td>147</td>\n",
       "      <td>136</td>\n",
       "      <td>145</td>\n",
       "      <td>143</td>\n",
       "      <td>143</td>\n",
       "      <td>135</td>\n",
       "      <td>0</td>\n",
       "      <td>0</td>\n",
       "    </tr>\n",
       "    <tr>\n",
       "      <th>1</th>\n",
       "      <td>88</td>\n",
       "      <td>94</td>\n",
       "      <td>101</td>\n",
       "      <td>107</td>\n",
       "      <td>116</td>\n",
       "      <td>122</td>\n",
       "      <td>127</td>\n",
       "      <td>132</td>\n",
       "      <td>137</td>\n",
       "      <td>142</td>\n",
       "      <td>...</td>\n",
       "      <td>90</td>\n",
       "      <td>90</td>\n",
       "      <td>89</td>\n",
       "      <td>87</td>\n",
       "      <td>87</td>\n",
       "      <td>85</td>\n",
       "      <td>81</td>\n",
       "      <td>79</td>\n",
       "      <td>1</td>\n",
       "      <td>0</td>\n",
       "    </tr>\n",
       "    <tr>\n",
       "      <th>2</th>\n",
       "      <td>235</td>\n",
       "      <td>225</td>\n",
       "      <td>192</td>\n",
       "      <td>202</td>\n",
       "      <td>235</td>\n",
       "      <td>236</td>\n",
       "      <td>231</td>\n",
       "      <td>203</td>\n",
       "      <td>213</td>\n",
       "      <td>216</td>\n",
       "      <td>...</td>\n",
       "      <td>226</td>\n",
       "      <td>228</td>\n",
       "      <td>227</td>\n",
       "      <td>232</td>\n",
       "      <td>234</td>\n",
       "      <td>232</td>\n",
       "      <td>233</td>\n",
       "      <td>233</td>\n",
       "      <td>1</td>\n",
       "      <td>1</td>\n",
       "    </tr>\n",
       "  </tbody>\n",
       "</table>\n",
       "<p>3 rows × 3074 columns</p>\n",
       "</div>"
      ],
      "text/plain": [
       "     0    1    2    3    4    5    6    7    8    9  ...  3064  3065  3066  \\\n",
       "0  205  205  205  206  206  205  206  206  205  205  ...   122   130   147   \n",
       "1   88   94  101  107  116  122  127  132  137  142  ...    90    90    89   \n",
       "2  235  225  192  202  235  236  231  203  213  216  ...   226   228   227   \n",
       "\n",
       "   3067  3068  3069  3070  3071  label  prediction  \n",
       "0   136   145   143   143   135      0           0  \n",
       "1    87    87    85    81    79      1           0  \n",
       "2   232   234   232   233   233      1           1  \n",
       "\n",
       "[3 rows x 3074 columns]"
      ]
     },
     "execution_count": 7,
     "metadata": {},
     "output_type": "execute_result"
    }
   ],
   "source": [
    "import pandas as pd\n",
    "\n",
    "df = pd.read_csv('../data/prod_data.csv')\n",
    "df"
   ]
  },
  {
   "cell_type": "markdown",
   "metadata": {},
   "source": [
    "### TEST FICHIER TRAINMODEL.PY"
   ]
  },
  {
   "cell_type": "code",
   "execution_count": 5,
   "metadata": {},
   "outputs": [],
   "source": [
    "def normalize_data(X_train, X_test):\n",
    "    X_train /= 255\n",
    "    X_test /= 255\n",
    "    return X_train, X_test\n",
    "\n",
    "def smote_data(X_train, y_train):\n",
    "    sm = SMOTE(sampling_strategy='minority')\n",
    "    X_train, y_train = sm.fit_resample(X_train, y_train)\n",
    "    return X_train, y_train\n",
    "\n",
    "def pca_data(X_train, X_test, loadPCA=False, withExport=False):\n",
    "    if loadPCA:\n",
    "        script_dir = os.path.abspath('')\n",
    "        pca_file_path = os.path.join(script_dir, '../artifacts/pca.pkl')\n",
    "        with open(pca_file_path, 'rb') as f:\n",
    "            pca = pickle.load(f)\n",
    "    else:\n",
    "        pca = PCA(n_components=0.95)\n",
    "        pca.fit(X_train)\n",
    "        if withExport:\n",
    "            script_dir = os.path.abspath('')\n",
    "            pca_file_path = os.path.join(script_dir, '../artifacts/pca.pkl')\n",
    "            with open(pca_file_path, 'wb') as f:\n",
    "                pickle.dump(pca, f)\n",
    "    X_train = pca.transform(X_train)\n",
    "    X_test = pca.transform(X_test)\n",
    "    return X_train, X_test\n",
    "\n",
    "def traitement_data(X_train, y_train, X_test, y_test, listType, loadPCA=False, exportPCA=False):\n",
    "    # Cas vide\n",
    "    if len(listType) == 0:\n",
    "        return X_train, y_train, X_test, y_test\n",
    "    \n",
    "    # Traitement des données\n",
    "    if 'norm' in listType:\n",
    "        X_train, X_test = normalize_data(X_train, X_test)\n",
    "    if 'pca' in listType:\n",
    "        X_train, X_test = pca_data(X_train, X_test, loadPCA, exportPCA)\n",
    "    if 'smote' in listType:\n",
    "        X_train, y_train = smote_data(X_train, y_train)\n",
    "\n",
    "    return X_train, y_train, X_test, y_test\n",
    "\n",
    "def load_file_To_DataFrame(file):\n",
    "    script_dir = os.path.abspath('')\n",
    "    file_path = os.path.join(script_dir, file)\n",
    "    try:\n",
    "        df = pd.read_csv(file_path)\n",
    "    except:\n",
    "        print(\"Erreur lors du chargement de : \", file_path)\n",
    "        sys.exit(1)\n",
    "    return df\n",
    "\n",
    "def split_X_Y(df):\n",
    "    # Séparation des features et des labels\n",
    "    X = df.drop('target', axis=1)\n",
    "    y = df['target']\n",
    "    return X, y\n",
    "\n",
    "def export_DfXY_Csv(X, y, file_path):\n",
    "    script_dir = os.path.abspath('')\n",
    "    file_path = os.path.join(script_dir, file_path)\n",
    "    df_X = pd.DataFrame(X)\n",
    "    df_y = pd.DataFrame(y)\n",
    "    df = pd.concat([df_X, df_y], axis=1)\n",
    "    df.to_csv(file_path, index=False)\n",
    "    print(\"Export de : \", file_path, \" réussi !\")\n",
    "\n",
    "def processessing_Data_from_file(pathTrain, pathTest, listType=[], loadPCA=False, exportPCA=True):\n",
    "    # Chargement des données\n",
    "    print(\"Chargement des données... 1/4\")\n",
    "    ref_data = load_file_To_DataFrame(pathTrain)\n",
    "    test_data = load_file_To_DataFrame(pathTest)\n",
    "    \n",
    "    # Séparation des features et des labels\n",
    "    print(\"Séparation des features et des labels... 2/4\")\n",
    "    X_train, y_train = split_X_Y(ref_data)\n",
    "    X_test, y_test = split_X_Y(test_data)\n",
    "\n",
    "    # Traitement des données\n",
    "    print(\"Traitement des données... 3/4\")\n",
    "    X_train, y_train, X_test, y_test = traitement_data(X_train, y_train, X_test, y_test, listType, loadPCA, exportPCA)\n",
    "\n",
    "    # Export des données\n",
    "    #print(\"Export des données... 4/4\")\n",
    "    # file_name = os.path.splitext(pathTrain)[0] + \"_pca.csv\"\n",
    "    # export_DfXY_Csv(X_train, y_train, file_name)\n",
    "    # file_name = os.path.splitext(pathTest)[0] + \"_pca.csv\"\n",
    "    # export_DfXY_Csv(X_test, y_test, file_name)"
   ]
  },
  {
   "cell_type": "code",
   "execution_count": 9,
   "metadata": {},
   "outputs": [],
   "source": [
    "ref_data = load_file_To_DataFrame(\"../data/ref_data.csv\")\n",
    "test_data1 = load_file_To_DataFrame(\"../data/ref_data_Test.csv\")"
   ]
  },
  {
   "cell_type": "code",
   "execution_count": 19,
   "metadata": {},
   "outputs": [],
   "source": [
    "test_data1 = load_file_To_DataFrame(\"../data/ref_data_Test_pca.csv\")"
   ]
  },
  {
   "cell_type": "code",
   "execution_count": 11,
   "metadata": {},
   "outputs": [
    {
     "data": {
      "text/plain": [
       "(10000, 3073)"
      ]
     },
     "execution_count": 11,
     "metadata": {},
     "output_type": "execute_result"
    }
   ],
   "source": [
    "test_data.shape"
   ]
  },
  {
   "cell_type": "code",
   "execution_count": 20,
   "metadata": {},
   "outputs": [
    {
     "data": {
      "text/plain": [
       "(10004, 219)"
      ]
     },
     "execution_count": 20,
     "metadata": {},
     "output_type": "execute_result"
    }
   ],
   "source": [
    "test_data1.shape"
   ]
  },
  {
   "cell_type": "code",
   "execution_count": 22,
   "metadata": {},
   "outputs": [],
   "source": [
    "nn = [str(i) for i in range(3072)]"
   ]
  },
  {
   "cell_type": "code",
   "execution_count": 8,
   "metadata": {},
   "outputs": [
    {
     "data": {
      "text/plain": [
       "Index(['0', '1', '2', '3', '4', '5', '6', '7', '8', '9',\n",
       "       ...\n",
       "       '3062', '3063', '3064', '3065', '3066', '3067', '3068', '3069', '3070',\n",
       "       '3071'],\n",
       "      dtype='object', length=3072)"
      ]
     },
     "execution_count": 8,
     "metadata": {},
     "output_type": "execute_result"
    }
   ],
   "source": [
    "X_train.columns"
   ]
  },
  {
   "cell_type": "code",
   "execution_count": 46,
   "metadata": {},
   "outputs": [
    {
     "data": {
      "text/html": [
       "<div>\n",
       "<style scoped>\n",
       "    .dataframe tbody tr th:only-of-type {\n",
       "        vertical-align: middle;\n",
       "    }\n",
       "\n",
       "    .dataframe tbody tr th {\n",
       "        vertical-align: top;\n",
       "    }\n",
       "\n",
       "    .dataframe thead th {\n",
       "        text-align: right;\n",
       "    }\n",
       "</style>\n",
       "<table border=\"1\" class=\"dataframe\">\n",
       "  <thead>\n",
       "    <tr style=\"text-align: right;\">\n",
       "      <th></th>\n",
       "      <th>0</th>\n",
       "      <th>1</th>\n",
       "      <th>2</th>\n",
       "      <th>3</th>\n",
       "      <th>4</th>\n",
       "      <th>5</th>\n",
       "      <th>6</th>\n",
       "      <th>7</th>\n",
       "      <th>8</th>\n",
       "      <th>9</th>\n",
       "      <th>...</th>\n",
       "      <th>3062</th>\n",
       "      <th>3063</th>\n",
       "      <th>3064</th>\n",
       "      <th>3065</th>\n",
       "      <th>3066</th>\n",
       "      <th>3067</th>\n",
       "      <th>3068</th>\n",
       "      <th>3069</th>\n",
       "      <th>3070</th>\n",
       "      <th>3071</th>\n",
       "    </tr>\n",
       "  </thead>\n",
       "  <tbody>\n",
       "    <tr>\n",
       "      <th>0</th>\n",
       "      <td>0</td>\n",
       "      <td>1</td>\n",
       "      <td>2</td>\n",
       "      <td>3</td>\n",
       "      <td>4</td>\n",
       "      <td>5</td>\n",
       "      <td>6</td>\n",
       "      <td>7</td>\n",
       "      <td>8</td>\n",
       "      <td>9</td>\n",
       "      <td>...</td>\n",
       "      <td>3062</td>\n",
       "      <td>3063</td>\n",
       "      <td>3064</td>\n",
       "      <td>3065</td>\n",
       "      <td>3066</td>\n",
       "      <td>3067</td>\n",
       "      <td>3068</td>\n",
       "      <td>3069</td>\n",
       "      <td>3070</td>\n",
       "      <td>3071</td>\n",
       "    </tr>\n",
       "  </tbody>\n",
       "</table>\n",
       "<p>1 rows × 3072 columns</p>\n",
       "</div>"
      ],
      "text/plain": [
       "   0     1     2     3     4     5     6     7     8     9     ...  3062  \\\n",
       "0     0     1     2     3     4     5     6     7     8     9  ...  3062   \n",
       "\n",
       "   3063  3064  3065  3066  3067  3068  3069  3070  3071  \n",
       "0  3063  3064  3065  3066  3067  3068  3069  3070  3071  \n",
       "\n",
       "[1 rows x 3072 columns]"
      ]
     },
     "execution_count": 46,
     "metadata": {},
     "output_type": "execute_result"
    }
   ],
   "source": [
    "img_encode = [i for i in range(3072)]\n",
    "pd.DataFrame([img_encode])"
   ]
  },
  {
   "cell_type": "code",
   "execution_count": 48,
   "metadata": {},
   "outputs": [
    {
     "data": {
      "text/plain": [
       "array([[ 7.65893894e+04,  3.86872517e+04,  2.92404786e+04,\n",
       "         1.98687924e+04,  3.08900071e+04, -3.51709905e+03,\n",
       "         1.52391455e+03, -9.03135613e+02,  4.10324446e+03,\n",
       "        -1.40897354e+02, -1.67822093e+02,  4.94007594e+02,\n",
       "        -1.20956512e+02, -1.66663794e+03, -2.27004776e+02,\n",
       "        -1.18757963e+02,  6.05363687e+03,  9.92852457e+02,\n",
       "        -1.71745501e+03,  6.23961539e+01,  2.78311186e+02,\n",
       "        -7.15617765e+02, -4.47187825e+02,  4.37551778e+02,\n",
       "         1.13831971e+03,  6.32245830e+02,  2.22286626e+02,\n",
       "         5.18028001e+00,  8.03976281e+02, -3.39768479e+02,\n",
       "        -4.62589126e+02, -4.91235923e+01, -8.66776397e+01,\n",
       "         1.02282663e+02,  4.33469104e+02, -7.44030528e+01,\n",
       "         1.02621866e+02, -2.03916046e+02, -2.73284292e+02,\n",
       "         2.70570000e+02,  4.85451390e+01,  2.04205569e+02,\n",
       "         1.29511547e+02,  2.59142532e+02,  2.33157766e+02,\n",
       "         3.08464544e+02, -8.11989135e+00,  3.78943587e+01,\n",
       "        -1.96582126e+01, -2.69489116e+02,  1.04873360e+02,\n",
       "         6.88818146e+01,  1.34173231e+02,  3.73535047e+01,\n",
       "         1.65223676e+00, -6.92672948e+02, -7.60505334e+02,\n",
       "        -8.73898634e+01, -1.28405808e+03, -1.35127669e+02,\n",
       "         2.26411145e+02, -1.65374643e+02, -8.74955206e+01,\n",
       "        -1.03753744e+02,  1.71848538e+01,  2.29602224e+00,\n",
       "        -1.00096957e+02, -1.51272823e+02, -1.20141381e+02,\n",
       "         8.14039834e+01, -5.32929143e+01, -1.94316420e+01,\n",
       "         5.79072183e+02,  2.13712939e+02, -1.19663715e+02,\n",
       "        -5.01712822e+02, -2.38436149e+02,  1.32050110e+02,\n",
       "        -9.58954560e+01, -8.87955140e+01,  6.08553962e+01,\n",
       "         1.10016666e+02, -1.68942935e+02, -5.74038662e+02,\n",
       "         1.49619741e+03,  1.56000097e+02,  7.55654175e+01,\n",
       "        -4.09076220e+02,  1.07046337e+02,  9.56825805e+01,\n",
       "        -7.50214594e-03, -4.04341239e+01,  1.38561588e+02,\n",
       "         1.00608635e+01, -1.02385645e+02,  1.01738158e+02,\n",
       "        -1.99834143e+01,  1.91234800e+02,  1.02259095e+02,\n",
       "         2.25988566e+01, -1.30603921e+02, -5.59374692e+01,\n",
       "         1.03777136e+02,  7.18856313e+01, -1.60979704e+02,\n",
       "        -1.37104400e+02,  2.62359281e+00,  2.01958925e+01,\n",
       "         4.32017564e+01,  3.20847140e+02,  3.54353528e+01,\n",
       "         3.28966543e+02, -3.38783523e+01, -6.14809099e+01,\n",
       "         3.32840145e+00,  2.93141324e+01, -1.00702767e+02,\n",
       "         1.11319942e+01,  5.55871644e+01, -6.34957400e+00,\n",
       "         6.45021933e+01,  1.36667570e+02, -5.17910483e+01,\n",
       "         3.42958390e+01,  1.01427418e+02,  5.30061268e+01,\n",
       "        -5.80730711e+01,  2.27835930e+02, -7.65232725e+01,\n",
       "         4.40651312e+01, -1.95884784e+02,  2.65819986e+01,\n",
       "         2.77418658e+01, -1.85511777e+01, -2.69213416e+01,\n",
       "         8.05437660e+01, -6.30216429e+01, -2.86874435e+01,\n",
       "        -4.22520974e+01, -3.58302789e+01, -6.55393151e+01,\n",
       "        -5.09151410e+01, -3.36475794e+01,  2.73141221e+01,\n",
       "         1.25358952e+01, -5.97571969e+01, -6.65908020e+01,\n",
       "         5.12406397e+01, -1.98459022e+01, -5.84460656e+01,\n",
       "        -5.61352076e+01,  9.94718010e+00,  1.00421511e+00,\n",
       "        -2.39718255e+01, -4.67916187e+01, -4.07288555e+01,\n",
       "         1.71611037e+01, -7.08914464e+00,  8.07769648e+01,\n",
       "        -1.81284223e+01, -9.73442700e+01,  4.70619890e+00,\n",
       "        -1.61763395e+02, -5.42073195e+01, -6.00433673e+01,\n",
       "        -7.67490717e+00, -1.00129571e+02, -1.40075639e+01,\n",
       "         3.20053668e+01,  1.06055140e+00, -1.45331250e+01,\n",
       "         1.10422294e+01, -5.56238690e+00,  1.57681838e+01,\n",
       "         2.54506160e+01,  1.92761439e+01,  9.03753327e-01,\n",
       "         2.54791872e+00, -8.09950833e+01,  1.85949166e+01,\n",
       "        -7.37006154e+01, -5.35912047e+01, -2.22972248e+01,\n",
       "         4.98355344e+01, -1.80629657e+01, -7.57918265e+01,\n",
       "        -2.27547693e+01,  5.64554303e+00,  2.02520182e+01,\n",
       "         2.69513070e+01,  2.76439344e+01, -1.40349837e+01,\n",
       "        -1.11013839e+01, -1.72519716e+01, -3.91796026e+01,\n",
       "        -4.96034877e+00,  2.82027392e-01,  4.74784762e+01,\n",
       "        -6.65285268e+01, -4.27651730e+01, -2.46755930e+01,\n",
       "        -3.36401985e+01, -2.62951661e+01, -2.66579083e+01,\n",
       "         1.07442410e+01,  1.24037039e+01, -2.95133742e+01,\n",
       "         8.88641022e+01,  4.86572520e+01,  3.77919503e+01,\n",
       "        -8.09155511e+01,  4.68669218e+01, -4.32130463e+01,\n",
       "         3.89576846e+01, -1.09731539e+01, -3.01050467e+01,\n",
       "         3.41050969e+00]])"
      ]
     },
     "execution_count": 48,
     "metadata": {},
     "output_type": "execute_result"
    }
   ],
   "source": [
    "with open(\"../artifacts/pca.pkl\", 'rb') as f:\n",
    "    pca = pickle.load(f)\n",
    "\n",
    "feature_names = [str(i) for i in range(3072)]\n",
    "img_encode = [str(i) for i in range(3072)]\n",
    "img_encode_df = pd.DataFrame([img_encode], columns=feature_names)\n",
    "pca.transform(img_encode_df)"
   ]
  },
  {
   "cell_type": "code",
   "execution_count": null,
   "metadata": {},
   "outputs": [],
   "source": [
    "print(\"Dict_model : \", dict_model)\n",
    "print(\"Best model : \", best_model(dict_model, 'balanced_accuracy_score'))"
   ]
  },
  {
   "cell_type": "code",
   "execution_count": 100,
   "metadata": {},
   "outputs": [],
   "source": [
    "test_data_cifar = load_file_To_DataFrame('../data/ref_data_Test.csv')\n",
    "test_data_cifar = test_data_cifar.drop(['prediction'], axis=1)\n",
    "X_test, _ = split_X_Y(test_data_cifar)\n",
    "_, X_test = pca_data(X_test, X_test, True, False)"
   ]
  },
  {
   "cell_type": "code",
   "execution_count": 103,
   "metadata": {},
   "outputs": [
    {
     "data": {
      "text/html": [
       "<div>\n",
       "<style scoped>\n",
       "    .dataframe tbody tr th:only-of-type {\n",
       "        vertical-align: middle;\n",
       "    }\n",
       "\n",
       "    .dataframe tbody tr th {\n",
       "        vertical-align: top;\n",
       "    }\n",
       "\n",
       "    .dataframe thead th {\n",
       "        text-align: right;\n",
       "    }\n",
       "</style>\n",
       "<table border=\"1\" class=\"dataframe\">\n",
       "  <thead>\n",
       "    <tr style=\"text-align: right;\">\n",
       "      <th></th>\n",
       "      <th>0</th>\n",
       "      <th>1</th>\n",
       "      <th>2</th>\n",
       "      <th>3</th>\n",
       "      <th>4</th>\n",
       "      <th>5</th>\n",
       "      <th>6</th>\n",
       "      <th>7</th>\n",
       "      <th>8</th>\n",
       "      <th>9</th>\n",
       "      <th>...</th>\n",
       "      <th>207</th>\n",
       "      <th>208</th>\n",
       "      <th>209</th>\n",
       "      <th>210</th>\n",
       "      <th>211</th>\n",
       "      <th>212</th>\n",
       "      <th>213</th>\n",
       "      <th>214</th>\n",
       "      <th>215</th>\n",
       "      <th>216</th>\n",
       "    </tr>\n",
       "  </thead>\n",
       "  <tbody>\n",
       "    <tr>\n",
       "      <th>0</th>\n",
       "      <td>5249.251933</td>\n",
       "      <td>1998.528666</td>\n",
       "      <td>1840.835035</td>\n",
       "      <td>264.288790</td>\n",
       "      <td>-1348.288212</td>\n",
       "      <td>-29.635208</td>\n",
       "      <td>-37.744011</td>\n",
       "      <td>-60.675417</td>\n",
       "      <td>379.096598</td>\n",
       "      <td>-27.954029</td>\n",
       "      <td>...</td>\n",
       "      <td>-99.582715</td>\n",
       "      <td>149.115409</td>\n",
       "      <td>-27.663881</td>\n",
       "      <td>121.735867</td>\n",
       "      <td>-123.527776</td>\n",
       "      <td>92.264786</td>\n",
       "      <td>-54.736725</td>\n",
       "      <td>-19.081738</td>\n",
       "      <td>-7.756616</td>\n",
       "      <td>32.820037</td>\n",
       "    </tr>\n",
       "    <tr>\n",
       "      <th>1</th>\n",
       "      <td>8672.073177</td>\n",
       "      <td>-675.650970</td>\n",
       "      <td>2814.073718</td>\n",
       "      <td>-1297.686015</td>\n",
       "      <td>-576.084033</td>\n",
       "      <td>-520.788716</td>\n",
       "      <td>-313.028914</td>\n",
       "      <td>-933.271009</td>\n",
       "      <td>878.650981</td>\n",
       "      <td>-987.358032</td>\n",
       "      <td>...</td>\n",
       "      <td>31.260297</td>\n",
       "      <td>19.771352</td>\n",
       "      <td>-61.389340</td>\n",
       "      <td>69.165610</td>\n",
       "      <td>39.122690</td>\n",
       "      <td>-16.463100</td>\n",
       "      <td>-85.068884</td>\n",
       "      <td>27.512815</td>\n",
       "      <td>-54.667257</td>\n",
       "      <td>1.271265</td>\n",
       "    </tr>\n",
       "    <tr>\n",
       "      <th>2</th>\n",
       "      <td>7336.164317</td>\n",
       "      <td>-486.097628</td>\n",
       "      <td>2569.454083</td>\n",
       "      <td>-279.746154</td>\n",
       "      <td>-807.002931</td>\n",
       "      <td>-685.300112</td>\n",
       "      <td>1334.651746</td>\n",
       "      <td>184.836071</td>\n",
       "      <td>793.002409</td>\n",
       "      <td>132.954753</td>\n",
       "      <td>...</td>\n",
       "      <td>13.640326</td>\n",
       "      <td>-0.462485</td>\n",
       "      <td>-37.337930</td>\n",
       "      <td>-10.830908</td>\n",
       "      <td>37.481346</td>\n",
       "      <td>25.830022</td>\n",
       "      <td>36.551762</td>\n",
       "      <td>48.519177</td>\n",
       "      <td>3.969841</td>\n",
       "      <td>48.547986</td>\n",
       "    </tr>\n",
       "    <tr>\n",
       "      <th>3</th>\n",
       "      <td>8188.401931</td>\n",
       "      <td>795.219015</td>\n",
       "      <td>3119.941978</td>\n",
       "      <td>-746.512209</td>\n",
       "      <td>-900.015134</td>\n",
       "      <td>709.558325</td>\n",
       "      <td>231.629832</td>\n",
       "      <td>126.091426</td>\n",
       "      <td>206.777963</td>\n",
       "      <td>210.473739</td>\n",
       "      <td>...</td>\n",
       "      <td>18.976231</td>\n",
       "      <td>19.173025</td>\n",
       "      <td>58.489797</td>\n",
       "      <td>100.611012</td>\n",
       "      <td>-52.405949</td>\n",
       "      <td>-2.264476</td>\n",
       "      <td>8.381209</td>\n",
       "      <td>48.129049</td>\n",
       "      <td>18.297132</td>\n",
       "      <td>-31.335501</td>\n",
       "    </tr>\n",
       "    <tr>\n",
       "      <th>4</th>\n",
       "      <td>4796.641005</td>\n",
       "      <td>2869.239602</td>\n",
       "      <td>1991.894078</td>\n",
       "      <td>-742.624150</td>\n",
       "      <td>-760.517453</td>\n",
       "      <td>-348.067532</td>\n",
       "      <td>149.666793</td>\n",
       "      <td>160.864656</td>\n",
       "      <td>551.417390</td>\n",
       "      <td>39.856296</td>\n",
       "      <td>...</td>\n",
       "      <td>43.423344</td>\n",
       "      <td>19.851641</td>\n",
       "      <td>76.425296</td>\n",
       "      <td>-31.501172</td>\n",
       "      <td>21.001613</td>\n",
       "      <td>121.553836</td>\n",
       "      <td>-44.286565</td>\n",
       "      <td>-62.088680</td>\n",
       "      <td>-44.927028</td>\n",
       "      <td>34.444489</td>\n",
       "    </tr>\n",
       "    <tr>\n",
       "      <th>...</th>\n",
       "      <td>...</td>\n",
       "      <td>...</td>\n",
       "      <td>...</td>\n",
       "      <td>...</td>\n",
       "      <td>...</td>\n",
       "      <td>...</td>\n",
       "      <td>...</td>\n",
       "      <td>...</td>\n",
       "      <td>...</td>\n",
       "      <td>...</td>\n",
       "      <td>...</td>\n",
       "      <td>...</td>\n",
       "      <td>...</td>\n",
       "      <td>...</td>\n",
       "      <td>...</td>\n",
       "      <td>...</td>\n",
       "      <td>...</td>\n",
       "      <td>...</td>\n",
       "      <td>...</td>\n",
       "      <td>...</td>\n",
       "      <td>...</td>\n",
       "    </tr>\n",
       "    <tr>\n",
       "      <th>9995</th>\n",
       "      <td>7282.115327</td>\n",
       "      <td>4005.753430</td>\n",
       "      <td>4086.075522</td>\n",
       "      <td>-981.686931</td>\n",
       "      <td>-182.878928</td>\n",
       "      <td>-1363.775372</td>\n",
       "      <td>327.918974</td>\n",
       "      <td>-1673.361938</td>\n",
       "      <td>616.026071</td>\n",
       "      <td>-686.979782</td>\n",
       "      <td>...</td>\n",
       "      <td>-21.486513</td>\n",
       "      <td>-6.329908</td>\n",
       "      <td>-111.721199</td>\n",
       "      <td>-102.980682</td>\n",
       "      <td>26.553896</td>\n",
       "      <td>77.429354</td>\n",
       "      <td>54.866992</td>\n",
       "      <td>140.021288</td>\n",
       "      <td>-154.522378</td>\n",
       "      <td>18.925188</td>\n",
       "    </tr>\n",
       "    <tr>\n",
       "      <th>9996</th>\n",
       "      <td>5216.431169</td>\n",
       "      <td>3820.980927</td>\n",
       "      <td>1364.377278</td>\n",
       "      <td>-94.862133</td>\n",
       "      <td>-1363.717424</td>\n",
       "      <td>-714.793837</td>\n",
       "      <td>-14.288221</td>\n",
       "      <td>-412.629520</td>\n",
       "      <td>421.729518</td>\n",
       "      <td>110.785589</td>\n",
       "      <td>...</td>\n",
       "      <td>-61.934376</td>\n",
       "      <td>-86.545797</td>\n",
       "      <td>79.283426</td>\n",
       "      <td>-21.292752</td>\n",
       "      <td>42.805705</td>\n",
       "      <td>74.260325</td>\n",
       "      <td>-75.605171</td>\n",
       "      <td>3.267738</td>\n",
       "      <td>-72.340456</td>\n",
       "      <td>72.906625</td>\n",
       "    </tr>\n",
       "    <tr>\n",
       "      <th>9997</th>\n",
       "      <td>2237.313632</td>\n",
       "      <td>2405.677040</td>\n",
       "      <td>1463.658128</td>\n",
       "      <td>-884.178027</td>\n",
       "      <td>-64.268551</td>\n",
       "      <td>-1490.246267</td>\n",
       "      <td>-192.177491</td>\n",
       "      <td>56.647554</td>\n",
       "      <td>28.019313</td>\n",
       "      <td>138.965503</td>\n",
       "      <td>...</td>\n",
       "      <td>72.874891</td>\n",
       "      <td>12.677059</td>\n",
       "      <td>40.138623</td>\n",
       "      <td>21.399452</td>\n",
       "      <td>-71.344998</td>\n",
       "      <td>7.053074</td>\n",
       "      <td>-16.315863</td>\n",
       "      <td>-33.847451</td>\n",
       "      <td>-53.934539</td>\n",
       "      <td>-5.681619</td>\n",
       "    </tr>\n",
       "    <tr>\n",
       "      <th>9998</th>\n",
       "      <td>4643.012842</td>\n",
       "      <td>2288.705545</td>\n",
       "      <td>2453.583116</td>\n",
       "      <td>-571.900071</td>\n",
       "      <td>-998.214629</td>\n",
       "      <td>-887.834834</td>\n",
       "      <td>-22.912448</td>\n",
       "      <td>-163.138554</td>\n",
       "      <td>1041.343497</td>\n",
       "      <td>131.332636</td>\n",
       "      <td>...</td>\n",
       "      <td>-2.555669</td>\n",
       "      <td>38.971471</td>\n",
       "      <td>29.922761</td>\n",
       "      <td>-77.840548</td>\n",
       "      <td>-17.813575</td>\n",
       "      <td>26.378700</td>\n",
       "      <td>-212.737998</td>\n",
       "      <td>109.166168</td>\n",
       "      <td>-32.887917</td>\n",
       "      <td>-149.612470</td>\n",
       "    </tr>\n",
       "    <tr>\n",
       "      <th>9999</th>\n",
       "      <td>5686.383421</td>\n",
       "      <td>1285.140933</td>\n",
       "      <td>973.628948</td>\n",
       "      <td>-805.924495</td>\n",
       "      <td>-721.456706</td>\n",
       "      <td>-527.495173</td>\n",
       "      <td>372.383673</td>\n",
       "      <td>231.299186</td>\n",
       "      <td>348.257018</td>\n",
       "      <td>67.701630</td>\n",
       "      <td>...</td>\n",
       "      <td>9.738227</td>\n",
       "      <td>-44.927784</td>\n",
       "      <td>-32.567653</td>\n",
       "      <td>13.779876</td>\n",
       "      <td>7.584536</td>\n",
       "      <td>84.743311</td>\n",
       "      <td>11.175032</td>\n",
       "      <td>-88.067712</td>\n",
       "      <td>-12.331034</td>\n",
       "      <td>-11.862627</td>\n",
       "    </tr>\n",
       "  </tbody>\n",
       "</table>\n",
       "<p>10000 rows × 217 columns</p>\n",
       "</div>"
      ],
      "text/plain": [
       "              0            1            2            3            4    \\\n",
       "0     5249.251933  1998.528666  1840.835035   264.288790 -1348.288212   \n",
       "1     8672.073177  -675.650970  2814.073718 -1297.686015  -576.084033   \n",
       "2     7336.164317  -486.097628  2569.454083  -279.746154  -807.002931   \n",
       "3     8188.401931   795.219015  3119.941978  -746.512209  -900.015134   \n",
       "4     4796.641005  2869.239602  1991.894078  -742.624150  -760.517453   \n",
       "...           ...          ...          ...          ...          ...   \n",
       "9995  7282.115327  4005.753430  4086.075522  -981.686931  -182.878928   \n",
       "9996  5216.431169  3820.980927  1364.377278   -94.862133 -1363.717424   \n",
       "9997  2237.313632  2405.677040  1463.658128  -884.178027   -64.268551   \n",
       "9998  4643.012842  2288.705545  2453.583116  -571.900071  -998.214629   \n",
       "9999  5686.383421  1285.140933   973.628948  -805.924495  -721.456706   \n",
       "\n",
       "              5            6            7            8           9    ...  \\\n",
       "0      -29.635208   -37.744011   -60.675417   379.096598  -27.954029  ...   \n",
       "1     -520.788716  -313.028914  -933.271009   878.650981 -987.358032  ...   \n",
       "2     -685.300112  1334.651746   184.836071   793.002409  132.954753  ...   \n",
       "3      709.558325   231.629832   126.091426   206.777963  210.473739  ...   \n",
       "4     -348.067532   149.666793   160.864656   551.417390   39.856296  ...   \n",
       "...           ...          ...          ...          ...         ...  ...   \n",
       "9995 -1363.775372   327.918974 -1673.361938   616.026071 -686.979782  ...   \n",
       "9996  -714.793837   -14.288221  -412.629520   421.729518  110.785589  ...   \n",
       "9997 -1490.246267  -192.177491    56.647554    28.019313  138.965503  ...   \n",
       "9998  -887.834834   -22.912448  -163.138554  1041.343497  131.332636  ...   \n",
       "9999  -527.495173   372.383673   231.299186   348.257018   67.701630  ...   \n",
       "\n",
       "            207         208         209         210         211         212  \\\n",
       "0    -99.582715  149.115409  -27.663881  121.735867 -123.527776   92.264786   \n",
       "1     31.260297   19.771352  -61.389340   69.165610   39.122690  -16.463100   \n",
       "2     13.640326   -0.462485  -37.337930  -10.830908   37.481346   25.830022   \n",
       "3     18.976231   19.173025   58.489797  100.611012  -52.405949   -2.264476   \n",
       "4     43.423344   19.851641   76.425296  -31.501172   21.001613  121.553836   \n",
       "...         ...         ...         ...         ...         ...         ...   \n",
       "9995 -21.486513   -6.329908 -111.721199 -102.980682   26.553896   77.429354   \n",
       "9996 -61.934376  -86.545797   79.283426  -21.292752   42.805705   74.260325   \n",
       "9997  72.874891   12.677059   40.138623   21.399452  -71.344998    7.053074   \n",
       "9998  -2.555669   38.971471   29.922761  -77.840548  -17.813575   26.378700   \n",
       "9999   9.738227  -44.927784  -32.567653   13.779876    7.584536   84.743311   \n",
       "\n",
       "             213         214         215         216  \n",
       "0     -54.736725  -19.081738   -7.756616   32.820037  \n",
       "1     -85.068884   27.512815  -54.667257    1.271265  \n",
       "2      36.551762   48.519177    3.969841   48.547986  \n",
       "3       8.381209   48.129049   18.297132  -31.335501  \n",
       "4     -44.286565  -62.088680  -44.927028   34.444489  \n",
       "...          ...         ...         ...         ...  \n",
       "9995   54.866992  140.021288 -154.522378   18.925188  \n",
       "9996  -75.605171    3.267738  -72.340456   72.906625  \n",
       "9997  -16.315863  -33.847451  -53.934539   -5.681619  \n",
       "9998 -212.737998  109.166168  -32.887917 -149.612470  \n",
       "9999   11.175032  -88.067712  -12.331034  -11.862627  \n",
       "\n",
       "[10000 rows x 217 columns]"
      ]
     },
     "execution_count": 103,
     "metadata": {},
     "output_type": "execute_result"
    }
   ],
   "source": [
    "# Export X_test to csv\n",
    "pd.DataFrame(X_test)"
   ]
  },
  {
   "cell_type": "code",
   "execution_count": 77,
   "metadata": {},
   "outputs": [
    {
     "data": {
      "text/plain": [
       "(10000, 219)"
      ]
     },
     "execution_count": 77,
     "metadata": {},
     "output_type": "execute_result"
    }
   ],
   "source": [
    "ref_test = pd.read_csv('../data/ref_data_Test_pca.csv')\n",
    "ref_test.shape"
   ]
  },
  {
   "cell_type": "code",
   "execution_count": null,
   "metadata": {},
   "outputs": [
    {
     "name": "stdout",
     "output_type": "stream",
     "text": [
      "(10000, 218)\n",
      "(10000, 219)\n"
     ]
    }
   ],
   "source": [
    "print(ref_test.shape)"
   ]
  },
  {
   "cell_type": "code",
   "execution_count": 76,
   "metadata": {},
   "outputs": [
    {
     "data": {
      "text/plain": [
       "{'f1_score': 0.507447354904982, 'balanced_accuracy_score': 0.742}"
      ]
     },
     "execution_count": 76,
     "metadata": {},
     "output_type": "execute_result"
    }
   ],
   "source": [
    "d={}\n",
    "with open(\"../artifacts/model_score.txt\") as f:\n",
    "    for line in f:\n",
    "       (key, val) = line.split(\",\")\n",
    "       d[key] = float(val)\n",
    "d"
   ]
  }
 ],
 "metadata": {
  "kernelspec": {
   "display_name": "Python 3",
   "language": "python",
   "name": "python3"
  },
  "language_info": {
   "codemirror_mode": {
    "name": "ipython",
    "version": 3
   },
   "file_extension": ".py",
   "mimetype": "text/x-python",
   "name": "python",
   "nbconvert_exporter": "python",
   "pygments_lexer": "ipython3",
   "version": "3.9.7"
  }
 },
 "nbformat": 4,
 "nbformat_minor": 2
}
