{
 "cells": [
  {
   "cell_type": "code",
   "execution_count": 1,
   "metadata": {},
   "outputs": [],
   "source": [
    "import json\n",
    "import os\n",
    "import spacy\n",
    "from spacy.tokens import DocBin\n",
    "from tqdm import tqdm"
   ]
  },
  {
   "cell_type": "code",
   "execution_count": 2,
   "metadata": {},
   "outputs": [],
   "source": [
    "current_directory = os.getcwd()\n"
   ]
  },
  {
   "cell_type": "markdown",
   "metadata": {},
   "source": [
    "Transformation du fichier label studio au format compatible avec spacy"
   ]
  },
  {
   "cell_type": "code",
   "execution_count": 3,
   "metadata": {},
   "outputs": [
    {
     "name": "stdout",
     "output_type": "stream",
     "text": [
      "Fichier créé c:\\M2\\Projet_Chatbot_NLP\\scripts\\..\\data\\raw_data\\spacy_output_format.json .\n"
     ]
    }
   ],
   "source": [
    "INPUTFILE_LABEL_STUDIO_EXPORT_JSON = os.path.join(current_directory, '..', 'data', 'raw_data', 'raw-entities.json')\n",
    "\n",
    "OUPUTFILE_SPACY_JSON = os.path.join(current_directory, '..', 'data', 'raw_data', 'spacy_output_format.json')\n",
    "\n",
    "with open(INPUTFILE_LABEL_STUDIO_EXPORT_JSON, 'r') as f:\n",
    "\n",
    "    # Lecture du fichier JSON\n",
    "    data = json.load(f)\n",
    "\n",
    "    output_list = []\n",
    "\n",
    "    # Boucle sur chaque element du fichier JSON\n",
    "    for item in data:\n",
    "        annotations = item[\"annotations\"]\n",
    "        text_data = item[\"data\"][\"text\"]\n",
    "\n",
    "        entities = []\n",
    "        for annotation in annotations:\n",
    "            results = annotation[\"result\"]\n",
    "            for result in results:\n",
    "                try:\n",
    "                    value = result[\"value\"]\n",
    "                    start = value[\"start\"]\n",
    "                    end = value[\"end\"]\n",
    "                    \n",
    "                   \n",
    "                    # Convertir les labels en liste\n",
    "                    labels = \",\".join(value[\"labels\"])\n",
    "                    \n",
    "                    entities.append([start, end, labels])\n",
    "\n",
    "                except (KeyError, IndexError):\n",
    "                    print(\"Error: Value n'existe pas.\")\n",
    "\n",
    "        output_list.append([text_data, {\"entities\": entities}])\n",
    "\n",
    "    # Création du nouveau fichier\n",
    "    with open(OUPUTFILE_SPACY_JSON, \"w\", encoding=\"utf-8\") as outfile:\n",
    "        json.dump(output_list, outfile, indent=2, ensure_ascii=False)\n",
    "\n",
    "    print(f'Fichier créé {OUPUTFILE_SPACY_JSON} .')\n"
   ]
  },
  {
   "cell_type": "code",
   "execution_count": 6,
   "metadata": {},
   "outputs": [
    {
     "name": "stdout",
     "output_type": "stream",
     "text": [
      "Dataset: 200\n",
      "\n",
      "--- TRAIN_DATA\n",
      "[[\"I'd like a Mediterranean salad and a bottle of water.\", {'entities': [[11, 30, 'food'], [47, 52, 'food'], [35, 36, 'qnt'], [9, 10, 'qnt']]}], ['Hello, can I have 2 duck breasts, 1 glass of red wine, and a bottle of water?', {'entities': [[20, 32, 'food'], [45, 53, 'food'], [71, 76, 'food'], [18, 19, 'qnt'], [34, 35, 'qnt'], [59, 60, 'qnt']]}], ['Give me a Mediterranean salad and 2 glasses of orange juice.', {'entities': [[10, 29, 'food'], [47, 59, 'food'], [8, 9, 'qnt'], [34, 35, 'qnt']]}], ['Could you get 3 beef carpaccios, 2 bottles of mineral water, and a glass of orange juice?', {'entities': [[16, 31, 'food'], [46, 59, 'food'], [14, 15, 'qnt'], [33, 34, 'qnt'], [76, 88, 'food'], [65, 66, 'qnt']]}], ['Hello, could I please get a grilled salmon and 2 glasses of red wine?', {'entities': [[28, 42, 'food'], [60, 68, 'food'], [26, 27, 'qnt'], [47, 48, 'qnt']]}], [\"I'll take 2 duck breasts and 1 glass of orange juice.\", {'entities': [[12, 24, 'food'], [40, 52, 'food'], [10, 11, 'qnt'], [29, 30, 'qnt']]}], ['Can I have 2 spinach raviolis and 1 glass of red wine?', {'entities': [[13, 29, 'food'], [45, 53, 'food'], [11, 12, 'qnt'], [34, 35, 'qnt']]}], ['Get me 2 beef tartares and a bottle of mineral water.', {'entities': [[9, 22, 'food'], [39, 52, 'food'], [7, 8, 'qnt'], [27, 28, 'qnt']]}], ['Hello, can I get 3 Mediterranean salads and 1 glass of orange juice?', {'entities': [[19, 39, 'food'], [55, 67, 'food'], [17, 18, 'qnt'], [44, 45, 'qnt']]}], [\"I'd like 2 grilled salmons and 1 glass of red wine.\", {'entities': [[11, 26, 'food'], [42, 49, 'food'], [9, 10, 'qnt'], [31, 32, 'qnt']]}], ['Could you bring 2 duck breasts and 2 glasses of water?', {'entities': [[18, 30, 'food'], [48, 53, 'food'], [16, 17, 'qnt'], [35, 36, 'qnt']]}], ['Can I have 3 beef carpaccios and 1 glass of red wine?', {'entities': [[13, 28, 'food'], [44, 52, 'food'], [11, 12, 'qnt'], [33, 34, 'qnt']]}], ['Get me a spinach ravioli and a glass of water.', {'entities': [[9, 24, 'food'], [40, 45, 'food'], [7, 8, 'qnt'], [29, 30, 'qnt']]}], ['Hello, could I please have 2 beef tartares and 2 glasses of orange juice?', {'entities': [[29, 42, 'food'], [60, 72, 'food'], [27, 28, 'qnt'], [47, 48, 'qnt']]}], [\"I'll have a Mediterranean salad and 1 glass of red wine.\", {'entities': [[12, 31, 'food'], [47, 55, 'food'], [10, 11, 'qnt'], [36, 37, 'qnt']]}], ['Could I get 3 grilled salmons and 1 glass of water?', {'entities': [[14, 29, 'food'], [45, 50, 'food'], [12, 13, 'qnt'], [34, 35, 'qnt']]}], ['Can I have 2 duck breasts, 1 glass of orange juice, and a bottle of water?', {'entities': [[13, 25, 'food'], [38, 50, 'food'], [68, 73, 'food'], [11, 12, 'qnt'], [27, 28, 'qnt'], [56, 57, 'qnt']]}], ['Give me 2 beef carpaccios and 2 glasses of red wine.', {'entities': [[10, 25, 'food'], [43, 51, 'food'], [8, 9, 'qnt'], [30, 31, 'qnt']]}], ['Hello, can I have a spinach ravioli and 1 glass of water?', {'entities': [[20, 35, 'food'], [51, 56, 'food'], [18, 19, 'qnt'], [40, 41, 'qnt']]}], [\"I'd like 2 beef tartares and 1 glass of orange juice.\", {'entities': [[11, 24, 'food'], [40, 52, 'food'], [9, 10, 'qnt'], [29, 30, 'qnt']]}], ['Can I get a Mediterranean salad and 2 glasses of red wine?', {'entities': [[12, 31, 'food'], [49, 57, 'food'], [10, 11, 'qnt'], [36, 37, 'qnt']]}], ['Can I have 3 grilled salmons and 2 glasses of water?', {'entities': [[13, 28, 'food'], [46, 51, 'food'], [11, 12, 'qnt'], [33, 34, 'qnt']]}], ['Give me 2 duck breasts and 1 glass of orange juice.', {'entities': [[10, 22, 'food'], [38, 50, 'food'], [8, 9, 'qnt'], [27, 28, 'qnt']]}], ['Hello, can I get 2 beef carpaccios and a bottle of water?', {'entities': [[19, 34, 'food'], [51, 56, 'food'], [17, 18, 'qnt'], [39, 40, 'qnt']]}], [\"I'll take 2 spinach raviolis and 2 glasses of red wine.\", {'entities': [[12, 28, 'food'], [46, 54, 'food'], [10, 11, 'qnt'], [33, 34, 'qnt']]}], ['Can I get 3 beef tartares and 1 glass of orange juice?', {'entities': [[12, 25, 'food'], [41, 53, 'food'], [10, 11, 'qnt'], [30, 31, 'qnt']]}], [\"I'll have a Mediterranean salad and 1 glass of water.\", {'entities': [[12, 31, 'food'], [47, 52, 'food'], [10, 11, 'qnt'], [36, 37, 'qnt']]}], ['Hello, can I get 2 grilled salmons and 1 glass of orange juice?', {'entities': [[19, 34, 'food'], [50, 62, 'food'], [17, 18, 'qnt'], [39, 40, 'qnt']]}], ['Can I have 2 duck breasts and 2 glasses of red wine?', {'entities': [[13, 25, 'food'], [43, 51, 'food'], [11, 12, 'qnt'], [30, 31, 'qnt']]}], ['Give me 3 beef carpaccios and a bottle of water.', {'entities': [[10, 25, 'food'], [42, 47, 'food'], [8, 9, 'qnt'], [30, 31, 'qnt']]}], ['Hello, can I have a spinach ravioli and 1 glass of red wine?', {'entities': [[20, 35, 'food'], [51, 59, 'food'], [18, 19, 'qnt'], [40, 41, 'qnt']]}], [\"I'd like 2 beef tartares and 1 glass of water.\", {'entities': [[11, 24, 'food'], [40, 45, 'food'], [9, 10, 'qnt'], [29, 30, 'qnt']]}], ['Can I get a Mediterranean salad and 2 glasses of orange juice?', {'entities': [[12, 31, 'food'], [49, 61, 'food'], [10, 11, 'qnt'], [36, 37, 'qnt']]}], ['Can I have 3 grilled salmons and 1 glass of red wine?', {'entities': [[13, 28, 'food'], [44, 52, 'food'], [11, 12, 'qnt'], [33, 34, 'qnt']]}], ['Give me 2 duck breasts and a bottle of water.', {'entities': [[10, 22, 'food'], [39, 44, 'food'], [8, 9, 'qnt'], [27, 28, 'qnt']]}], ['Hello, can I get 2 beef carpaccios and 2 glasses of water?', {'entities': [[19, 34, 'food'], [52, 57, 'food'], [17, 18, 'qnt'], [39, 40, 'qnt']]}], [\"I'll take a spinach ravioli and 2 glasses of red wine.\", {'entities': [[12, 27, 'food'], [45, 53, 'food'], [10, 11, 'qnt'], [32, 33, 'qnt']]}], ['Can I have 3 beef tartares and 1 glass of orange juice?', {'entities': [[13, 26, 'food'], [42, 54, 'food'], [11, 12, 'qnt'], [31, 32, 'qnt']]}], ['Give me a Mediterranean salad and 1 glass of water.', {'entities': [[10, 29, 'food'], [45, 50, 'food'], [8, 9, 'qnt'], [34, 35, 'qnt']]}], ['Hello, can I get 2 grilled salmons and 1 glass of orange juice?', {'entities': [[19, 34, 'food'], [50, 62, 'food'], [17, 18, 'qnt'], [39, 40, 'qnt']]}], ['Can I have 2 duck breasts and 1 glass of red wine?', {'entities': [[13, 25, 'food'], [41, 49, 'food'], [11, 12, 'qnt'], [30, 31, 'qnt']]}], ['Give me 3 beef carpaccios and 2 glasses of water.', {'entities': [[10, 25, 'food'], [43, 48, 'food'], [8, 9, 'qnt'], [30, 31, 'qnt']]}], ['Hello, can I get a spinach ravioli and 1 glass of red wine?', {'entities': [[19, 34, 'food'], [50, 58, 'food'], [17, 18, 'qnt'], [39, 40, 'qnt']]}], [\"I'd like 2 beef tartares and 1 glass of orange juice.\", {'entities': [[11, 24, 'food'], [40, 52, 'food'], [9, 10, 'qnt'], [29, 30, 'qnt']]}], ['Can I get a Mediterranean salad and 2 glasses of red wine?', {'entities': [[12, 31, 'food'], [49, 57, 'food'], [10, 11, 'qnt'], [36, 37, 'qnt']]}], ['Can I have 3 grilled salmons and 2 glasses of water?', {'entities': [[13, 28, 'food'], [46, 51, 'food'], [11, 12, 'qnt'], [33, 34, 'qnt']]}], ['Give me 2 duck breasts and 1 glass of orange juice.', {'entities': [[10, 22, 'food'], [38, 50, 'food'], [8, 9, 'qnt'], [27, 28, 'qnt']]}], ['Hello, can I get 2 beef carpaccios and a bottle of water?', {'entities': [[19, 34, 'food'], [51, 56, 'food'], [17, 18, 'qnt'], [39, 40, 'qnt']]}], [\"I'll take 2 spinach raviolis and 2 glasses of red wine.\", {'entities': [[12, 28, 'food'], [46, 54, 'food'], [10, 11, 'qnt'], [33, 34, 'qnt']]}], ['Can I get 3 beef tartares and 1 glass of orange juice?', {'entities': [[12, 25, 'food'], [41, 53, 'food'], [10, 11, 'qnt'], [30, 31, 'qnt']]}], [\"I'll have a Mediterranean salad and 1 glass of water.\", {'entities': [[12, 31, 'food'], [47, 52, 'food'], [10, 11, 'qnt'], [36, 37, 'qnt']]}], ['Hello, can I get 2 grilled salmons and 1 glass of orange juice?', {'entities': [[19, 34, 'food'], [50, 62, 'food'], [17, 18, 'qnt'], [39, 40, 'qnt']]}], ['Can I have 2 duck breasts and 2 glasses of red wine?', {'entities': [[13, 25, 'food'], [43, 51, 'food'], [11, 12, 'qnt'], [30, 31, 'qnt']]}], ['Give me 3 beef carpaccios and a bottle of water.', {'entities': [[10, 25, 'food'], [42, 47, 'food'], [8, 9, 'qnt'], [30, 31, 'qnt']]}], ['Hello, can I have a spinach ravioli and 1 glass of red wine?', {'entities': [[20, 35, 'food'], [51, 59, 'food'], [18, 19, 'qnt'], [40, 41, 'qnt']]}], [\"I'd like 2 beef tartares and 1 glass of water.\", {'entities': [[11, 24, 'food'], [40, 45, 'food'], [9, 10, 'qnt'], [29, 30, 'qnt']]}], ['Can I get a Mediterranean salad and 2 glasses of orange juice?', {'entities': [[12, 31, 'food'], [49, 61, 'food'], [10, 11, 'qnt'], [36, 37, 'qnt']]}], ['Can I have 3 grilled salmons and 1 glass of red wine?', {'entities': [[13, 28, 'food'], [44, 52, 'food'], [11, 12, 'qnt'], [33, 34, 'qnt']]}], ['Give me 2 duck breasts and a bottle of water.', {'entities': [[10, 22, 'food'], [39, 44, 'food'], [8, 9, 'qnt'], [27, 28, 'qnt']]}], ['Hello, can I get 2 beef carpaccios and 2 glasses of water?', {'entities': [[19, 34, 'food'], [52, 57, 'food'], [17, 18, 'qnt'], [39, 40, 'qnt']]}], [\"I'll take a spinach ravioli and 2 glasses of red wine.\", {'entities': [[12, 27, 'food'], [45, 53, 'food'], [10, 11, 'qnt'], [32, 33, 'qnt']]}], ['Can I have 3 beef tartares and 1 glass of orange juice?', {'entities': [[13, 26, 'food'], [42, 54, 'food'], [11, 12, 'qnt'], [31, 32, 'qnt']]}], ['Give me a Mediterranean salad and 1 glass of water.', {'entities': [[10, 29, 'food'], [45, 50, 'food'], [8, 9, 'qnt'], [34, 35, 'qnt']]}], ['Hello, can I get 2 grilled salmons and 1 glass of orange juice?', {'entities': [[19, 34, 'food'], [50, 62, 'food'], [17, 18, 'qnt'], [39, 40, 'qnt']]}], ['Can I have 2 duck breasts and 1 glass of red wine?', {'entities': [[13, 25, 'food'], [41, 49, 'food'], [11, 12, 'qnt'], [30, 31, 'qnt']]}], ['Give me 3 beef carpaccios and 2 glasses of water.', {'entities': [[10, 25, 'food'], [43, 48, 'food'], [8, 9, 'qnt'], [30, 31, 'qnt']]}], ['Hello, can I get a spinach ravioli and 1 glass of red wine?', {'entities': [[19, 34, 'food'], [50, 58, 'food'], [17, 18, 'qnt'], [39, 40, 'qnt']]}], [\"I'd like 2 beef tartares and 1 glass of orange juice.\", {'entities': [[11, 24, 'food'], [40, 52, 'food'], [9, 10, 'qnt'], [29, 30, 'qnt']]}], ['Can I get a Mediterranean salad and 2 glasses of red wine?', {'entities': [[12, 31, 'food'], [49, 57, 'food'], [10, 11, 'qnt'], [36, 37, 'qnt']]}], ['Can I have 3 grilled salmons and 2 glasses of water?', {'entities': [[13, 28, 'food'], [46, 51, 'food'], [11, 12, 'qnt'], [33, 34, 'qnt']]}], ['Give me 2 duck breasts and 1 glass of orange juice.', {'entities': [[10, 22, 'food'], [38, 50, 'food'], [8, 9, 'qnt'], [27, 28, 'qnt']]}], ['Hello, can I get 2 beef carpaccios and a bottle of water?', {'entities': [[19, 34, 'food'], [51, 56, 'food'], [17, 18, 'qnt'], [39, 40, 'qnt']]}], [\"I'll take 2 spinach raviolis and 2 glasses of red wine.\", {'entities': [[12, 28, 'food'], [46, 54, 'food'], [10, 11, 'qnt'], [33, 34, 'qnt']]}], ['Can I get 3 beef tartares and 1 glass of orange juice?', {'entities': [[12, 25, 'food'], [41, 53, 'food'], [10, 11, 'qnt'], [30, 31, 'qnt']]}], [\"I'll have a Mediterranean salad and 1 glass of water.\", {'entities': [[12, 31, 'food'], [47, 52, 'food'], [10, 11, 'qnt'], [36, 37, 'qnt']]}], ['Hello, can I get 2 grilled salmons and 1 glass of orange juice?', {'entities': [[19, 34, 'food'], [50, 62, 'food'], [17, 18, 'qnt'], [39, 40, 'qnt']]}], ['Can I have 2 duck breasts and 2 glasses of red wine?', {'entities': [[13, 25, 'food'], [43, 51, 'food'], [11, 12, 'qnt'], [30, 31, 'qnt']]}], ['Give me 3 beef carpaccios and a bottle of water.', {'entities': [[10, 25, 'food'], [42, 47, 'food'], [8, 9, 'qnt'], [30, 31, 'qnt']]}], ['Hello, can I have a spinach ravioli and 1 glass of red wine?', {'entities': [[20, 35, 'food'], [51, 59, 'food'], [18, 19, 'qnt'], [40, 41, 'qnt']]}], [\"I'd like 2 beef tartares and 1 glass of orange juice.\", {'entities': [[11, 24, 'food'], [40, 52, 'food'], [9, 10, 'qnt'], [29, 30, 'qnt']]}], ['Can I get a Mediterranean salad and 2 glasses of orange juice?', {'entities': [[12, 31, 'food'], [49, 61, 'food'], [10, 11, 'qnt'], [36, 37, 'qnt']]}], ['Can I have 3 grilled salmons and 1 glass of red wine?', {'entities': [[13, 28, 'food'], [44, 52, 'food'], [11, 12, 'qnt'], [33, 34, 'qnt']]}], ['Give me 2 duck breasts and a bottle of water.', {'entities': [[10, 22, 'food'], [39, 44, 'food'], [8, 9, 'qnt'], [27, 28, 'qnt']]}], ['Hello, can I get 2 beef carpaccios and 2 glasses of water?', {'entities': [[19, 34, 'food'], [52, 57, 'food'], [17, 18, 'qnt'], [39, 40, 'qnt']]}], [\"I'll take a spinach ravioli and 2 glasses of red wine.\", {'entities': [[12, 28, 'food'], [45, 53, 'food'], [10, 11, 'qnt'], [32, 33, 'qnt']]}], ['Can I have 3 beef tartares and 1 glass of orange juice?', {'entities': [[13, 26, 'food'], [42, 54, 'food'], [11, 12, 'qnt'], [31, 32, 'qnt']]}], ['Give me a Mediterranean salad and 1 glass of water.', {'entities': [[10, 29, 'food'], [45, 50, 'food'], [8, 9, 'qnt'], [34, 35, 'qnt']]}], ['Hello, can I get 2 grilled salmons and 1 glass of orange juice?', {'entities': [[19, 34, 'food'], [50, 62, 'food'], [17, 18, 'qnt'], [39, 40, 'qnt']]}], ['Can I have 2 duck breasts and 1 glass of red wine?', {'entities': [[13, 25, 'food'], [41, 49, 'food'], [11, 12, 'qnt'], [30, 31, 'qnt']]}], ['Give me 3 beef carpaccios and 2 glasses of water.', {'entities': [[10, 25, 'food'], [43, 48, 'food'], [8, 9, 'qnt'], [30, 31, 'qnt']]}], ['Hello, can I get a spinach ravioli and 1 glass of red wine?', {'entities': [[19, 34, 'food'], [50, 58, 'food'], [17, 18, 'qnt'], [39, 40, 'qnt']]}], [\"I'd like 2 beef tartares and 1 glass of orange juice.\", {'entities': [[11, 24, 'food'], [40, 52, 'food'], [9, 10, 'qnt'], [29, 30, 'qnt']]}], ['Can I get a Mediterranean salad and 2 glasses of red wine?', {'entities': [[12, 31, 'food'], [49, 57, 'food'], [10, 11, 'qnt'], [36, 37, 'qnt']]}], ['Can I have 3 grilled salmons and 2 glasses of water?', {'entities': [[13, 28, 'food'], [46, 51, 'food'], [11, 12, 'qnt'], [33, 34, 'qnt']]}], ['Give me 2 duck breasts and 1 glass of orange juice.', {'entities': [[10, 22, 'food'], [38, 50, 'food'], [8, 9, 'qnt'], [27, 28, 'qnt']]}], ['Hello, can I get 2 beef carpaccios and a bottle of water?', {'entities': [[19, 34, 'food'], [51, 56, 'food'], [17, 18, 'qnt'], [39, 40, 'qnt']]}], [\"I'll take 2 spinach raviolis and 2 glasses of red wine.\", {'entities': [[12, 28, 'food'], [46, 54, 'food'], [10, 11, 'qnt'], [33, 34, 'qnt']]}], ['Can I get 3 beef tartares and 1 glass of orange juice?', {'entities': [[12, 25, 'food'], [41, 53, 'food'], [10, 11, 'qnt'], [30, 31, 'qnt']]}], [\"I'll have a Mediterranean salad and 1 glass of water.\", {'entities': [[12, 31, 'food'], [47, 52, 'food'], [10, 11, 'qnt'], [36, 37, 'qnt']]}], ['Hello, can I get 2 grilled salmons and 1 glass of orange juice?', {'entities': [[19, 34, 'food'], [50, 62, 'food'], [17, 18, 'qnt'], [39, 40, 'qnt']]}], ['Can I have 2 duck breasts and 2 glasses of red wine?', {'entities': [[13, 25, 'food'], [43, 51, 'food'], [11, 12, 'qnt'], [30, 31, 'qnt']]}], ['Give me 3 beef carpaccios and a bottle of water.', {'entities': [[10, 25, 'food'], [42, 47, 'food'], [8, 9, 'qnt'], [30, 31, 'qnt']]}], ['Hello, can I have a spinach ravioli and 1 glass of red wine?', {'entities': [[20, 35, 'food'], [51, 59, 'food'], [18, 19, 'qnt'], [40, 41, 'qnt']]}], [\"I'd like 2 beef tartares and 1 glass of orange juice.\", {'entities': [[11, 24, 'food'], [40, 52, 'food'], [9, 10, 'qnt'], [29, 30, 'qnt']]}], ['Can I get a Mediterranean salad and 2 glasses of orange juice?', {'entities': [[12, 31, 'food'], [49, 61, 'food'], [10, 11, 'qnt'], [36, 37, 'qnt']]}], ['Can I have 3 grilled salmons and 1 glass of red wine?', {'entities': [[13, 28, 'food'], [44, 52, 'food'], [11, 12, 'qnt'], [33, 34, 'qnt']]}], ['Give me 2 duck breasts and a bottle of water.', {'entities': [[10, 22, 'food'], [39, 44, 'food'], [8, 9, 'qnt'], [27, 28, 'qnt']]}], ['Hello, can I get 2 beef carpaccios and 2 glasses of water?', {'entities': [[19, 34, 'food'], [52, 57, 'food'], [17, 18, 'qnt'], [39, 40, 'qnt']]}], [\"I'll take a spinach ravioli and 2 glasses of red wine.\", {'entities': [[12, 27, 'food'], [45, 53, 'food'], [10, 11, 'qnt'], [32, 33, 'qnt']]}], ['Can I have 3 beef tartares and 1 glass of orange juice?', {'entities': [[13, 26, 'food'], [42, 54, 'food'], [11, 12, 'qnt'], [31, 32, 'qnt']]}], ['Give me a Mediterranean salad and 1 glass of water.', {'entities': [[10, 29, 'food'], [45, 50, 'food'], [8, 9, 'qnt'], [34, 35, 'qnt']]}], ['Hello, can I get 2 grilled salmons and 1 glass of orange juice?', {'entities': [[18, 34, 'food'], [50, 62, 'food'], [17, 18, 'qnt'], [39, 40, 'qnt']]}], ['Can I have 2 duck breasts and 1 glass of red wine?', {'entities': [[13, 25, 'food'], [41, 49, 'food'], [11, 12, 'qnt'], [30, 31, 'qnt']]}], ['Give me 3 beef carpaccios and 2 glasses of water.', {'entities': [[10, 25, 'food'], [43, 48, 'food'], [8, 9, 'qnt'], [30, 31, 'qnt']]}], ['Hello, can I get a spinach ravioli and 1 glass of red wine?', {'entities': [[19, 34, 'food'], [50, 58, 'food'], [17, 18, 'qnt'], [39, 40, 'qnt']]}], [\"I'd like 2 beef tartares and 1 glass of orange juice.\", {'entities': [[11, 24, 'food'], [40, 52, 'food'], [9, 10, 'qnt'], [29, 30, 'qnt']]}], ['Can I get a Mediterranean salad and 2 glasses of red wine?', {'entities': [[12, 31, 'food'], [49, 57, 'food'], [10, 11, 'qnt'], [36, 37, 'qnt']]}], ['Can I have 3 grilled salmons and 2 glasses of water?', {'entities': [[13, 28, 'food'], [46, 51, 'food'], [11, 12, 'qnt'], [33, 34, 'qnt']]}], ['Give me 2 duck breasts and 1 glass of orange juice.', {'entities': [[10, 22, 'food'], [38, 50, 'food'], [8, 9, 'qnt'], [27, 28, 'qnt']]}], ['Hello, can I get 2 beef carpaccios and a bottle of water?', {'entities': [[19, 34, 'food'], [51, 56, 'food'], [17, 18, 'qnt'], [39, 40, 'qnt']]}], [\"I'll take 2 spinach raviolis and 2 glasses of red wine.\", {'entities': [[12, 28, 'food'], [46, 54, 'food'], [10, 11, 'qnt'], [33, 34, 'qnt']]}], ['Can I get 3 beef tartares and 1 glass of orange juice?', {'entities': [[12, 25, 'food'], [41, 53, 'food'], [10, 11, 'qnt'], [30, 31, 'qnt']]}], [\"I'll have a Mediterranean salad and 1 glass of water.\", {'entities': [[12, 31, 'food'], [47, 52, 'food'], [10, 11, 'qnt'], [36, 37, 'qnt']]}], ['Hello, can I get 2 grilled salmons and 1 glass of orange juice?', {'entities': [[19, 34, 'food'], [50, 62, 'food'], [17, 18, 'qnt'], [39, 40, 'qnt']]}], ['Can I have 2 duck breasts and 1 glass of red wine?', {'entities': [[13, 25, 'food'], [41, 49, 'food'], [11, 12, 'qnt'], [30, 31, 'qnt']]}], ['Give me 3 beef carpaccios and 2 glasses of water.', {'entities': [[10, 25, 'food'], [43, 48, 'food'], [8, 9, 'qnt'], [30, 31, 'qnt']]}], ['Hello, can I get a spinach ravioli and 1 glass of red wine?', {'entities': [[19, 34, 'food'], [50, 58, 'food'], [17, 18, 'qnt'], [39, 40, 'qnt']]}], [\"I'd like 2 beef tartares and 1 glass of orange juice.\", {'entities': [[11, 24, 'food'], [40, 52, 'food'], [9, 10, 'qnt'], [29, 30, 'qnt']]}], ['Can I get a Mediterranean salad and 2 glasses of orange juice?', {'entities': [[12, 31, 'food'], [49, 61, 'food'], [10, 11, 'qnt'], [36, 37, 'qnt']]}], ['Can I have 3 grilled salmons and 1 glass of red wine?', {'entities': [[13, 28, 'food'], [44, 52, 'food'], [11, 12, 'qnt'], [33, 34, 'qnt']]}], ['Give me 2 duck breasts and a bottle of water.', {'entities': [[10, 22, 'food'], [39, 44, 'food'], [8, 9, 'qnt'], [27, 28, 'qnt']]}], ['Hello, can I get 2 beef carpaccios and 2 glasses of water?', {'entities': [[19, 34, 'food'], [52, 57, 'food'], [17, 18, 'qnt'], [39, 40, 'qnt']]}], [\"I'll take a spinach ravioli and 2 glasses of red wine.\", {'entities': [[12, 27, 'food'], [44, 53, 'food'], [10, 11, 'qnt'], [32, 33, 'qnt']]}], ['Can I have 3 beef tartares and 1 glass of orange juice?', {'entities': [[13, 26, 'food'], [42, 54, 'food'], [11, 12, 'qnt'], [31, 32, 'qnt']]}], ['Give me a Mediterranean salad and 1 glass of water.', {'entities': [[10, 29, 'food'], [45, 50, 'food'], [8, 9, 'qnt'], [34, 35, 'qnt']]}], ['Hello, can I get 2 grilled salmons and 1 glass of orange juice?', {'entities': [[19, 34, 'food'], [50, 62, 'food'], [17, 18, 'qnt'], [39, 40, 'qnt']]}], ['Can I have 2 duck breasts and 1 glass of red wine?', {'entities': [[13, 25, 'food'], [41, 49, 'food'], [11, 12, 'qnt'], [30, 31, 'qnt']]}], ['Give me 3 beef carpaccios and 2 glasses of water.', {'entities': [[10, 25, 'food'], [43, 48, 'food'], [8, 9, 'qnt'], [30, 31, 'qnt']]}], ['Hello, can I get a spinach ravioli and 1 glass of red wine?', {'entities': [[19, 34, 'food'], [50, 58, 'food'], [17, 18, 'qnt'], [39, 40, 'qnt']]}], [\"I'd like 2 beef tartares and 1 glass of orange juice.\", {'entities': [[11, 24, 'food'], [40, 52, 'food'], [9, 10, 'qnt'], [29, 30, 'qnt']]}], ['Can I get a Mediterranean salad and 2 glasses of red wine?', {'entities': [[12, 31, 'food'], [49, 57, 'food'], [10, 11, 'qnt'], [36, 37, 'qnt']]}], ['Can I have 3 grilled salmons and 2 glasses of water?', {'entities': [[13, 28, 'food'], [46, 51, 'food'], [11, 12, 'qnt'], [33, 34, 'qnt']]}], ['Give me 2 duck breasts and 1 glass of orange juice.', {'entities': [[10, 22, 'food'], [38, 50, 'food'], [8, 9, 'qnt'], [27, 28, 'qnt']]}], ['Hello, can I get 2 beef carpaccios and a bottle of water?', {'entities': [[19, 34, 'food'], [51, 56, 'food'], [17, 18, 'qnt'], [39, 40, 'qnt']]}], [\"I'll take 2 spinach raviolis and 2 glasses of red wine.\", {'entities': [[12, 28, 'food'], [46, 54, 'food'], [10, 11, 'qnt'], [33, 34, 'qnt']]}], ['Can I get 3 beef tartares and 1 glass of orange juice?', {'entities': [[12, 25, 'food'], [41, 53, 'food'], [10, 11, 'qnt'], [30, 31, 'qnt']]}], [\"I'll have a Mediterranean salad and 1 glass of water.\", {'entities': [[12, 31, 'food'], [47, 52, 'food'], [10, 11, 'qnt'], [36, 37, 'qnt']]}], ['Hello, can I get 2 grilled salmons and 1 glass of orange juice?', {'entities': [[19, 34, 'food'], [50, 62, 'food'], [17, 18, 'qnt'], [39, 40, 'qnt']]}], ['Can I have 2 duck breasts and 1 glass of red wine?', {'entities': [[13, 25, 'food'], [41, 49, 'food'], [11, 12, 'qnt'], [30, 31, 'qnt']]}], ['Give me 3 beef carpaccios and 2 glasses of water.', {'entities': [[10, 25, 'food'], [43, 48, 'food'], [8, 9, 'qnt'], [30, 31, 'qnt']]}]]\n",
      "\n",
      "--- TEST_DATA\n",
      "[['Hello, can I get a spinach ravioli and 1 glass of red wine?', {'entities': [[19, 34, 'food'], [50, 58, 'food'], [17, 18, 'qnt'], [39, 40, 'qnt']]}], [\"I'd like 2 beef tartares and 1 glass of orange juice.\", {'entities': [[11, 24, 'food'], [40, 52, 'food'], [9, 10, 'qnt'], [29, 30, 'qnt']]}], ['Can I get a Mediterranean salad and 2 glasses of orange juice?', {'entities': [[12, 31, 'food'], [49, 61, 'food'], [10, 11, 'qnt'], [36, 37, 'qnt']]}], ['Can I have 3 grilled salmons and 1 glass of red wine?', {'entities': [[13, 28, 'food'], [44, 52, 'food'], [11, 12, 'qnt'], [33, 34, 'qnt']]}], ['Give me 2 duck breasts and a bottle of water.', {'entities': [[10, 22, 'food'], [39, 44, 'food'], [8, 9, 'qnt'], [27, 28, 'qnt']]}], ['Hello, can I get 2 beef carpaccios and 2 glasses of water?', {'entities': [[19, 34, 'food'], [52, 57, 'food'], [17, 18, 'qnt'], [39, 40, 'qnt']]}], [\"I'll take a spinach ravioli and 2 glasses of red wine.\", {'entities': [[12, 27, 'food'], [45, 53, 'food'], [10, 11, 'qnt'], [32, 33, 'qnt']]}], ['Can I have 3 beef tartares and 1 glass of orange juice?', {'entities': [[13, 27, 'food'], [42, 54, 'food'], [11, 12, 'qnt'], [31, 32, 'qnt']]}], ['Give me a Mediterranean salad and 1 glass of water.', {'entities': [[10, 29, 'food'], [45, 50, 'food'], [8, 9, 'qnt'], [34, 35, 'qnt']]}], ['Hello, can I get 2 grilled salmons and 1 glass of orange juice?', {'entities': [[19, 34, 'food'], [50, 62, 'food'], [17, 18, 'qnt'], [39, 40, 'qnt']]}], ['Can I have 2 duck breasts and 1 glass of red wine?', {'entities': [[12, 25, 'food'], [41, 49, 'food'], [11, 12, 'qnt'], [30, 31, 'qnt']]}], ['Give me 3 beef carpaccios and 2 glasses of water.', {'entities': [[10, 25, 'food'], [43, 48, 'food'], [8, 9, 'qnt'], [30, 31, 'qnt']]}], ['Hello, can I get a spinach ravioli and 1 glass of red wine?', {'entities': [[19, 34, 'food'], [50, 58, 'food'], [17, 18, 'qnt'], [39, 40, 'qnt']]}], [\"I'd like 2 beef tartares and 1 glass of orange juice.\", {'entities': [[11, 24, 'food'], [40, 52, 'food'], [9, 10, 'qnt'], [29, 30, 'qnt']]}], ['Can I get a Mediterranean salad and 2 glasses of red wine?', {'entities': [[12, 31, 'food'], [49, 57, 'food'], [10, 11, 'qnt'], [36, 37, 'qnt']]}], ['Can I have 3 grilled salmons and 2 glasses of water?', {'entities': [[13, 28, 'food'], [46, 51, 'food'], [11, 12, 'qnt'], [33, 34, 'qnt']]}], ['Give me 2 duck breasts and 1 glass of orange juice.', {'entities': [[10, 22, 'food'], [38, 50, 'food'], [8, 9, 'qnt'], [27, 28, 'qnt']]}], ['Hello, can I get 2 beef carpaccios and a bottle of water?', {'entities': [[19, 34, 'food'], [51, 56, 'food'], [17, 18, 'qnt'], [39, 40, 'qnt']]}], [\"I'll take 2 spinach raviolis and 2 glasses of red wine.\", {'entities': [[12, 28, 'food'], [46, 54, 'food'], [10, 11, 'qnt'], [33, 34, 'qnt']]}], ['Can I get 3 beef tartares and 1 glass of orange juice?', {'entities': [[12, 25, 'food'], [41, 53, 'food'], [10, 11, 'qnt'], [30, 31, 'qnt']]}], [\"I'll have a Mediterranean salad and 1 glass of water.\", {'entities': [[12, 31, 'food'], [47, 52, 'food'], [10, 12, 'qnt'], [36, 37, 'qnt']]}], ['Hello, can I get 2 grilled salmons and 1 glass of orange juice?', {'entities': [[19, 34, 'food'], [50, 62, 'food'], [17, 18, 'qnt'], [39, 40, 'qnt']]}], ['Can I have 2 duck breasts and 1 glass of red wine?', {'entities': [[13, 25, 'food'], [41, 49, 'food'], [11, 12, 'qnt'], [30, 31, 'qnt']]}], ['Give me 3 beef carpaccios and 2 glasses of water.', {'entities': [[9, 25, 'food'], [43, 48, 'food'], [8, 9, 'qnt'], [30, 31, 'qnt']]}], ['Hello, can I get a spinach ravioli and 1 glass of red wine?', {'entities': [[19, 34, 'food'], [50, 58, 'food'], [17, 18, 'qnt'], [39, 40, 'qnt']]}], [\"I'd like 2 beef tartares and 1 glass of orange juice.\", {'entities': [[11, 24, 'food'], [40, 52, 'food'], [9, 10, 'qnt'], [29, 30, 'qnt']]}], ['Can I get a Mediterranean salad and 2 glasses of orange juice?', {'entities': [[12, 31, 'food'], [49, 61, 'food'], [10, 11, 'qnt'], [36, 37, 'qnt']]}], ['Can I have 3 grilled salmons and 1 glass of red wine?', {'entities': [[13, 28, 'food'], [44, 52, 'food'], [11, 12, 'qnt'], [33, 34, 'qnt']]}], ['Give me 2 duck breasts and a bottle of water.', {'entities': [[10, 22, 'food'], [39, 44, 'food'], [8, 9, 'qnt'], [27, 28, 'qnt']]}], ['Hello, can I get 2 beef carpaccios and 2 glasses of water?', {'entities': [[19, 34, 'food'], [52, 57, 'food'], [17, 18, 'qnt'], [39, 40, 'qnt']]}], [\"I'll take a spinach ravioli and 2 glasses of red wine.\", {'entities': [[12, 27, 'food'], [45, 53, 'food'], [10, 11, 'qnt'], [32, 33, 'qnt']]}], ['Can I have 3 beef tartares and 1 glass of orange juice?', {'entities': [[13, 26, 'food'], [42, 54, 'food'], [11, 12, 'qnt'], [31, 32, 'qnt']]}], ['Give me a Mediterranean salad and 1 glass of water.', {'entities': [[10, 29, 'food'], [45, 50, 'food'], [8, 9, 'qnt'], [34, 35, 'qnt']]}], ['Hello, can I get 2 grilled salmons and 1 glass of orange juice?', {'entities': [[19, 34, 'food'], [50, 62, 'food'], [17, 18, 'qnt'], [39, 40, 'qnt']]}], ['Can I have 2 duck breasts and 1 glass of red wine?', {'entities': [[13, 25, 'food'], [41, 49, 'food'], [11, 12, 'qnt'], [30, 31, 'qnt']]}], ['Give me 3 beef carpaccios and 2 glasses of water.', {'entities': [[10, 25, 'food'], [43, 48, 'food'], [8, 9, 'qnt'], [30, 31, 'qnt']]}], ['Hello, can I get a spinach ravioli and 1 glass of red wine?', {'entities': [[19, 34, 'food'], [50, 58, 'food'], [17, 18, 'qnt'], [39, 40, 'qnt']]}], [\"I'd like 2 beef tartares and 1 glass of orange juice.\", {'entities': [[11, 24, 'food'], [40, 52, 'food'], [9, 10, 'qnt'], [29, 30, 'qnt']]}], ['Can I get a Mediterranean salad and 2 glasses of red wine?', {'entities': [[12, 31, 'food'], [49, 57, 'food'], [10, 11, 'qnt'], [36, 37, 'qnt']]}], ['Can I have 3 grilled salmons and 2 glasses of water?', {'entities': [[13, 28, 'food'], [46, 51, 'food'], [11, 12, 'qnt'], [33, 34, 'qnt']]}], ['Give me 2 duck breasts and 1 glass of orange juice.', {'entities': [[10, 22, 'food'], [38, 50, 'food'], [8, 9, 'qnt'], [27, 28, 'qnt']]}], ['Hello, can I get 2 beef carpaccios and a bottle of water?', {'entities': [[19, 34, 'food'], [51, 56, 'food'], [17, 18, 'qnt'], [39, 40, 'qnt']]}], [\"I'll take 2 spinach raviolis and 2 glasses of red wine.\", {'entities': [[12, 28, 'food'], [46, 54, 'food'], [10, 11, 'qnt'], [33, 34, 'qnt']]}], ['Can I get 3 beef tartares and 1 glass of orange juice?', {'entities': [[12, 25, 'food'], [41, 53, 'food'], [10, 11, 'qnt'], [30, 31, 'qnt']]}], [\"I'll have a Mediterranean salad and 1 glass of water.\", {'entities': [[12, 31, 'food'], [47, 52, 'food'], [10, 11, 'qnt'], [36, 37, 'qnt']]}], ['Hello, can I get 2 grilled salmons and 1 glass of orange juice?', {'entities': [[19, 34, 'food'], [50, 62, 'food'], [17, 18, 'qnt'], [39, 40, 'qnt']]}], ['Can I have 2 duck breasts and 1 glass of red wine?', {'entities': [[13, 25, 'food'], [41, 49, 'food'], [11, 12, 'qnt'], [30, 31, 'qnt']]}], ['Give me 3 beef carpaccios and 2 glasses of water.', {'entities': [[10, 25, 'food'], [43, 48, 'food'], [8, 9, 'qnt'], [30, 31, 'qnt']]}], ['Hello, can I get a spinach ravioli and 1 glass of red wine?', {'entities': [[19, 34, 'food'], [50, 58, 'food'], [17, 18, 'qnt'], [39, 40, 'qnt']]}], [\"I'd like 2 beef tartares and 1 glass of orange juice.\", {'entities': [[11, 24, 'food'], [40, 52, 'food'], [9, 10, 'qnt'], [29, 30, 'qnt']]}]]\n",
      "Fichier créé c:\\M2\\Projet_Chatbot_NLP\\scripts\\..\\data\\raw_data\\spacy_output_format.json.\n"
     ]
    },
    {
     "name": "stderr",
     "output_type": "stream",
     "text": [
      "100%|██████████| 150/150 [00:02<00:00, 55.23it/s]\n",
      "100%|██████████| 50/50 [00:00<00:00, 107.89it/s]\n"
     ]
    }
   ],
   "source": [
    "# \n",
    "INPUTFILE_SPACY_JSON=os.path.join(current_directory, '..', 'data', 'raw_data', 'spacy_output_format.json')\n",
    "\n",
    "OUTPUT_directory = os.path.join(current_directory, '..', 'data')\n",
    "\n",
    "with open(INPUTFILE_SPACY_JSON, 'r') as f:\n",
    "\n",
    "    # ouvrir le fichier JSON\n",
    "    data = json.load(f)\n",
    "    \n",
    "    \n",
    "    count_items = len(data)\n",
    "    print(\"Dataset:\", count_items)\n",
    "\n",
    "\n",
    "TRAIN_DATA = data[:150]\n",
    "TEST_DATA = data[150:]\n",
    "\n",
    "print('\\n--- TRAIN_DATA')\n",
    "print(TRAIN_DATA)\n",
    "\n",
    "print('\\n--- TEST_DATA')\n",
    "print(TEST_DATA)\n",
    "\n",
    "    \n",
    "# train data\n",
    "def convert(path, dataset):\n",
    "    nlp = spacy.blank(\"pt\")\n",
    "    db = DocBin()\n",
    "    for text, annot in tqdm(dataset):\n",
    "        doc = nlp.make_doc(text)\n",
    "        ents = []\n",
    "        for start, end, label in annot[\"entities\"]:\n",
    "            span = doc.char_span(start, end, label=label, alignment_mode=\"contract\")\n",
    "            if span is None:\n",
    "                print(\"Skipping entity\")\n",
    "            else:\n",
    "                ents.append(span)\n",
    "                doc.ents = ents\n",
    "                db.add(doc)\n",
    "                db.to_disk(path)\n",
    "\n",
    "print(f'Fichier créé {INPUTFILE_SPACY_JSON}.')\n",
    "\n",
    "convert(os.path.join(OUTPUT_directory, 'train.spacy') , TRAIN_DATA)\n",
    "convert(os.path.join(OUTPUT_directory, 'test.spacy'), TEST_DATA)"
   ]
  },
  {
   "cell_type": "code",
   "execution_count": 7,
   "metadata": {},
   "outputs": [],
   "source": [
    "modelpath=os.path.join(current_directory, '..', 'models', 'output','model-best')\n",
    "nlps = spacy.load(modelpath)"
   ]
  },
  {
   "cell_type": "code",
   "execution_count": 8,
   "metadata": {},
   "outputs": [],
   "source": [
    "text = \"I'll have one duck breast, 2 beef tartares, and 2 glasses of red wine.\"\n",
    "doc = nlps(text)"
   ]
  },
  {
   "cell_type": "code",
   "execution_count": 9,
   "metadata": {},
   "outputs": [
    {
     "name": "stdout",
     "output_type": "stream",
     "text": [
      "one qnt\n",
      "duck breast food\n",
      "2 qnt\n",
      "beef tartares food\n",
      "red wine food\n"
     ]
    }
   ],
   "source": [
    "for ent in doc.ents:\n",
    "    print(ent.text, ent.label_)"
   ]
  }
 ],
 "metadata": {
  "kernelspec": {
   "display_name": "gan",
   "language": "python",
   "name": "python3"
  },
  "language_info": {
   "codemirror_mode": {
    "name": "ipython",
    "version": 3
   },
   "file_extension": ".py",
   "mimetype": "text/x-python",
   "name": "python",
   "nbconvert_exporter": "python",
   "pygments_lexer": "ipython3",
   "version": "3.11.5"
  }
 },
 "nbformat": 4,
 "nbformat_minor": 2
}
